{
  "nbformat": 4,
  "nbformat_minor": 0,
  "metadata": {
    "colab": {
      "provenance": []
    },
    "kernelspec": {
      "name": "python3",
      "display_name": "Python 3"
    },
    "language_info": {
      "name": "python"
    }
  },
  "cells": [
    {
      "cell_type": "code",
      "execution_count": 5,
      "metadata": {
        "id": "BggvSftiPNJe"
      },
      "outputs": [],
      "source": [
        "import pandas as pd\n",
        "import numpy as np\n",
        "from sklearn.model_selection import train_test_split, cross_val_score\n",
        "from sklearn.metrics import precision_score, recall_score, f1_score, roc_auc_score\n",
        "from sklearn.metrics import accuracy_score, classification_report, confusion_matrix\n",
        "from sklearn.preprocessing import StandardScaler\n",
        "from sklearn.svm import SVC\n",
        "import matplotlib.pyplot as plt\n",
        "import seaborn as sns\n",
        "\n",
        "df= pd.read_csv(\"drive/MyDrive/pca_reduced_dataset.csv\")"
      ]
    },
    {
      "cell_type": "code",
      "source": [
        "print(f\"Dataset shape: {df.shape}\")\n",
        "print(f\"Features: {list(df.columns[:-1])}\")\n",
        "print(f\"Target variable: Churn\")\n",
        "print(f\"Class distribution:\")\n",
        "print(df['Churn'].value_counts())\n",
        "print(f\"Percentage distribution:\")\n",
        "print(df['Churn'].value_counts(normalize=True) * 100)"
      ],
      "metadata": {
        "colab": {
          "base_uri": "https://localhost:8080/"
        },
        "id": "CItFBapmhMVw",
        "outputId": "78187258-f340-45e1-a810-a84f879534bd"
      },
      "execution_count": 3,
      "outputs": [
        {
          "output_type": "stream",
          "name": "stdout",
          "text": [
            "Dataset shape: (7043, 15)\n",
            "Features: ['PC1', 'PC2', 'PC3', 'PC4', 'PC5', 'PC6', 'PC7', 'PC8', 'PC9', 'PC10', 'PC11', 'PC12', 'PC13', 'PC14']\n",
            "Target variable: Churn\n",
            "Class distribution:\n",
            "Churn\n",
            "0    5174\n",
            "1    1869\n",
            "Name: count, dtype: int64\n",
            "Percentage distribution:\n",
            "Churn\n",
            "0    73.463013\n",
            "1    26.536987\n",
            "Name: proportion, dtype: float64\n"
          ]
        }
      ]
    },
    {
      "cell_type": "markdown",
      "source": [
        "Variety 1 - Basic SVM"
      ],
      "metadata": {
        "id": "i2vvSO2Fi5Io"
      }
    },
    {
      "cell_type": "code",
      "source": [
        "X = df.drop('Churn', axis=1)\n",
        "y = df['Churn']\n",
        "\n",
        "# Split dataset test 20% train 80%\n",
        "X_train, X_test, y_train, y_test = train_test_split(X, y, test_size=0.2, random_state=42, stratify=y)\n",
        "\n",
        "print(f\"Training set: {X_train.shape}\")\n",
        "print(f\"Test set: {X_test.shape}\")"
      ],
      "metadata": {
        "colab": {
          "base_uri": "https://localhost:8080/"
        },
        "id": "4dCK5NgVg-M5",
        "outputId": "dadbc102-8669-4386-f4a3-1433fbce5334"
      },
      "execution_count": 2,
      "outputs": [
        {
          "output_type": "stream",
          "name": "stdout",
          "text": [
            "Training set: (5634, 14)\n",
            "Test set: (1409, 14)\n"
          ]
        }
      ]
    },
    {
      "cell_type": "code",
      "source": [
        "scaler = StandardScaler()\n",
        "X_train_scaled = scaler.fit_transform(X_train)\n",
        "X_test_scaled = scaler.transform(X_test)\n",
        "\n",
        "svm_basic = SVC(kernel='rbf', probability=True, random_state=42)\n",
        "svm_basic.fit(X_train_scaled, y_train)\n",
        "\n",
        "# Make predictions\n",
        "y_pred_basic = svm_basic.predict(X_test_scaled)\n",
        "y_pred_proba_basic = svm_basic.predict_proba(X_test_scaled)[:, 1]"
      ],
      "metadata": {
        "id": "HY41NkYohQ5A"
      },
      "execution_count": 6,
      "outputs": []
    },
    {
      "cell_type": "code",
      "source": [
        "accuracy_basic = accuracy_score(y_test, y_pred_basic)\n",
        "precision_basic = precision_score(y_test, y_pred_basic)\n",
        "recall_basic = recall_score(y_test, y_pred_basic)\n",
        "f1_basic = f1_score(y_test, y_pred_basic)\n",
        "auc_basic = roc_auc_score(y_test, y_pred_proba_basic)\n",
        "\n",
        "print(f\"Accuracy:  {accuracy_basic:.4f}\")\n",
        "print(f\"Precision: {precision_basic:.4f}\")\n",
        "print(f\"Recall:    {recall_basic:.4f}\")\n",
        "print(f\"F1-Score:  {f1_basic:.4f}\")\n",
        "print(f\"AUC-ROC:   {auc_basic:.4f}\")"
      ],
      "metadata": {
        "colab": {
          "base_uri": "https://localhost:8080/"
        },
        "id": "TTRCCyW5iVva",
        "outputId": "2f54308b-4005-4333-a067-2f72334746b3"
      },
      "execution_count": 7,
      "outputs": [
        {
          "output_type": "stream",
          "name": "stdout",
          "text": [
            "Accuracy:  0.7878\n",
            "Precision: 0.6307\n",
            "Recall:    0.4840\n",
            "F1-Score:  0.5477\n",
            "AUC-ROC:   0.8143\n"
          ]
        }
      ]
    },
    {
      "cell_type": "code",
      "source": [
        "cm_basic = confusion_matrix(y_test, y_pred_basic)\n",
        "print(\"Confusion Matrix:\")\n",
        "print(cm_basic)\n",
        "\n",
        "plt.figure(figsize=(8, 6))\n",
        "sns.heatmap(cm_basic, annot=True, fmt='d', cmap='Blues', cbar=False)\n",
        "plt.xlabel('Predicted Label')\n",
        "plt.ylabel('True Label')\n",
        "plt.title('Confusion Matrix - Basic SVM')\n",
        "plt.show()"
      ],
      "metadata": {
        "colab": {
          "base_uri": "https://localhost:8080/",
          "height": 567
        },
        "id": "WQNf15TSiZKs",
        "outputId": "60a12120-a5eb-4402-fd38-8c7f18d956e6"
      },
      "execution_count": 9,
      "outputs": [
        {
          "output_type": "stream",
          "name": "stdout",
          "text": [
            "Confusion Matrix:\n",
            "[[929 106]\n",
            " [193 181]]\n"
          ]
        },
        {
          "output_type": "display_data",
          "data": {
            "text/plain": [
              "<Figure size 800x600 with 1 Axes>"
            ],
            "image/png": "[encoded data removed]"
          },
          "metadata": {}
        }
      ]
    },
    {
      "cell_type": "code",
      "source": [
        "print(\"Classification Report:\")\n",
        "print(classification_report(y_test, y_pred_basic))\n",
        "\n",
        "# Cross validation\n",
        "cv_basic = cross_val_score(svm_basic, scaler.fit_transform(X), y, cv=5, scoring='accuracy')\n",
        "print(f\"Cross-validation: {cv_basic.mean():.4f} (+/- {cv_basic.std() * 2:.4f})\")"
      ],
      "metadata": {
        "colab": {
          "base_uri": "https://localhost:8080/"
        },
        "id": "ilZ6Dvneifcu",
        "outputId": "d2253faf-3c18-44c6-b85b-f3829c0635ba"
      },
      "execution_count": 10,
      "outputs": [
        {
          "output_type": "stream",
          "name": "stdout",
          "text": [
            "Classification Report:\n",
            "              precision    recall  f1-score   support\n",
            "\n",
            "           0       0.83      0.90      0.86      1035\n",
            "           1       0.63      0.48      0.55       374\n",
            "\n",
            "    accuracy                           0.79      1409\n",
            "   macro avg       0.73      0.69      0.70      1409\n",
            "weighted avg       0.78      0.79      0.78      1409\n",
            "\n",
            "Cross-validation: 0.7978 (+/- 0.0107)\n"
          ]
        }
      ]
    },
    {
      "cell_type": "markdown",
      "source": [
        "Variety 2 - Linear SVM"
      ],
      "metadata": {
        "id": "k7ssWKPEizVK"
      }
    },
    {
      "cell_type": "code",
      "source": [
        "svm_linear = SVC(kernel='linear', probability=True, random_state=42)\n",
        "svm_linear.fit(X_train_scaled, y_train)\n",
        "\n",
        "# Make predictions\n",
        "y_pred_linear = svm_linear.predict(X_test_scaled)\n",
        "y_pred_proba_linear = svm_linear.predict_proba(X_test_scaled)[:, 1]"
      ],
      "metadata": {
        "id": "afNAw5EKi3nP"
      },
      "execution_count": 11,
      "outputs": []
    },
    {
      "cell_type": "code",
      "source": [
        "accuracy_linear = accuracy_score(y_test, y_pred_linear)\n",
        "precision_linear = precision_score(y_test, y_pred_linear)\n",
        "recall_linear = recall_score(y_test, y_pred_linear)\n",
        "f1_linear = f1_score(y_test, y_pred_linear)\n",
        "auc_linear = roc_auc_score(y_test, y_pred_proba_linear)\n",
        "\n",
        "print(f\"Accuracy:  {accuracy_linear:.4f}\")\n",
        "print(f\"Precision: {precision_linear:.4f}\")\n",
        "print(f\"Recall:    {recall_linear:.4f}\")\n",
        "print(f\"F1-Score:  {f1_linear:.4f}\")\n",
        "print(f\"AUC-ROC:   {auc_linear:.4f}\")\n"
      ],
      "metadata": {
        "colab": {
          "base_uri": "https://localhost:8080/"
        },
        "id": "XXY43xokjGXn",
        "outputId": "dc41ee1b-8560-469b-9a37-769d80920c22"
      },
      "execution_count": 12,
      "outputs": [
        {
          "output_type": "stream",
          "name": "stdout",
          "text": [
            "Accuracy:  0.7942\n",
            "Precision: 0.6346\n",
            "Recall:    0.5294\n",
            "F1-Score:  0.5773\n",
            "AUC-ROC:   0.8349\n"
          ]
        }
      ]
    },
    {
      "cell_type": "code",
      "source": [
        "cm_linear = confusion_matrix(y_test, y_pred_linear)\n",
        "print(\"Confusion Matrix:\")\n",
        "print(cm_linear)\n",
        "\n",
        "# Plot confusion matrix\n",
        "plt.figure(figsize=(8, 6))\n",
        "sns.heatmap(cm_linear, annot=True, fmt='d', cmap='Blues', cbar=False)\n",
        "plt.xlabel('Predicted Label')\n",
        "plt.ylabel('True Label')\n",
        "plt.title('Confusion Matrix - Linear SVM')\n",
        "plt.show()"
      ],
      "metadata": {
        "colab": {
          "base_uri": "https://localhost:8080/",
          "height": 567
        },
        "id": "VFTA2mBmjIOS",
        "outputId": "9f40e46f-f8ad-4b37-bcbb-ff8826989dca"
      },
      "execution_count": 13,
      "outputs": [
        {
          "output_type": "stream",
          "name": "stdout",
          "text": [
            "Confusion Matrix:\n",
            "[[921 114]\n",
            " [176 198]]\n"
          ]
        },
        {
          "output_type": "display_data",
          "data": {
            "text/plain": [
              "<Figure size 800x600 with 1 Axes>"
            ],
            "image/png": "[encoded data removed]"
          },
          "metadata": {}
        }
      ]
    },
    {
      "cell_type": "code",
      "source": [
        "print(\"Classification Report:\")\n",
        "print(classification_report(y_test, y_pred_linear))\n",
        "\n",
        "# Cross validation\n",
        "cv_linear = cross_val_score(svm_linear, scaler.fit_transform(X), y, cv=5, scoring='accuracy')\n",
        "print(f\"Cross-validation: {cv_linear.mean():.4f} (+/- {cv_linear.std() * 2:.4f})\")"
      ],
      "metadata": {
        "colab": {
          "base_uri": "https://localhost:8080/"
        },
        "id": "I6-V5jxMjOrY",
        "outputId": "c721255c-b3e5-4f0f-d85b-c7dfac5aafe5"
      },
      "execution_count": 14,
      "outputs": [
        {
          "output_type": "stream",
          "name": "stdout",
          "text": [
            "Classification Report:\n",
            "              precision    recall  f1-score   support\n",
            "\n",
            "           0       0.84      0.89      0.86      1035\n",
            "           1       0.63      0.53      0.58       374\n",
            "\n",
            "    accuracy                           0.79      1409\n",
            "   macro avg       0.74      0.71      0.72      1409\n",
            "weighted avg       0.79      0.79      0.79      1409\n",
            "\n",
            "Cross-validation: 0.8019 (+/- 0.0129)\n"
          ]
        }
      ]
    },
    {
      "cell_type": "markdown",
      "source": [
        "Variety 3 - Tuned SVM"
      ],
      "metadata": {
        "id": "IQW_nDGOjWaS"
      }
    },
    {
      "cell_type": "code",
      "source": [
        "svm_tuned = SVC(kernel='rbf', C=10, gamma=0.01, probability=True, random_state=42)\n",
        "svm_tuned.fit(X_train_scaled, y_train)\n",
        "\n",
        "# Make predictions\n",
        "y_pred_tuned = svm_tuned.predict(X_test_scaled)\n",
        "y_pred_proba_tuned = svm_tuned.predict_proba(X_test_scaled)[:, 1]"
      ],
      "metadata": {
        "id": "2Gh0IQQmjZX5"
      },
      "execution_count": 15,
      "outputs": []
    },
    {
      "cell_type": "code",
      "source": [
        "accuracy_tuned = accuracy_score(y_test, y_pred_tuned)\n",
        "precision_tuned = precision_score(y_test, y_pred_tuned)\n",
        "recall_tuned = recall_score(y_test, y_pred_tuned)\n",
        "f1_tuned = f1_score(y_test, y_pred_tuned)\n",
        "auc_tuned = roc_auc_score(y_test, y_pred_proba_tuned)\n",
        "\n",
        "print(f\"Accuracy:  {accuracy_tuned:.4f}\")\n",
        "print(f\"Precision: {precision_tuned:.4f}\")\n",
        "print(f\"Recall:    {recall_tuned:.4f}\")\n",
        "print(f\"F1-Score:  {f1_tuned:.4f}\")\n",
        "print(f\"AUC-ROC:   {auc_tuned:.4f}\")"
      ],
      "metadata": {
        "colab": {
          "base_uri": "https://localhost:8080/"
        },
        "id": "tXsDPMGYjb-J",
        "outputId": "8379a1b9-dad5-453e-f691-8ed36a6f40b8"
      },
      "execution_count": 16,
      "outputs": [
        {
          "output_type": "stream",
          "name": "stdout",
          "text": [
            "Accuracy:  0.7928\n",
            "Precision: 0.6424\n",
            "Recall:    0.4947\n",
            "F1-Score:  0.5589\n",
            "AUC-ROC:   0.8289\n"
          ]
        }
      ]
    },
    {
      "cell_type": "code",
      "source": [
        "cm_tuned = confusion_matrix(y_test, y_pred_tuned)\n",
        "print(\"Confusion Matrix:\")\n",
        "print(cm_tuned)\n",
        "\n",
        "# Plot confusion matrix\n",
        "plt.figure(figsize=(8, 6))\n",
        "sns.heatmap(cm_tuned, annot=True, fmt='d', cmap='Blues', cbar=False)\n",
        "plt.xlabel('Predicted Label')\n",
        "plt.ylabel('True Label')\n",
        "plt.title('Confusion Matrix - Tuned SVM')\n",
        "plt.show()"
      ],
      "metadata": {
        "colab": {
          "base_uri": "https://localhost:8080/",
          "height": 567
        },
        "id": "XrvfBTDBjdra",
        "outputId": "8d5965fd-ec39-4332-8aed-456368d14b5f"
      },
      "execution_count": 19,
      "outputs": [
        {
          "output_type": "stream",
          "name": "stdout",
          "text": [
            "Confusion Matrix:\n",
            "[[932 103]\n",
            " [189 185]]\n"
          ]
        },
        {
          "output_type": "display_data",
          "data": {
            "text/plain": [
              "<Figure size 800x600 with 1 Axes>"
            ],
            "image/png": "[encoded data removed]"
          },
          "metadata": {}
        }
      ]
    },
    {
      "cell_type": "code",
      "source": [
        "print(\"Classification Report:\")\n",
        "print(classification_report(y_test, y_pred_tuned))\n",
        "\n",
        "# Cross validation\n",
        "cv_tuned = cross_val_score(svm_tuned, scaler.fit_transform(X), y, cv=5, scoring='accuracy')\n",
        "print(f\"Cross-validation: {cv_tuned.mean():.4f} (+/- {cv_tuned.std() * 2:.4f})\")"
      ],
      "metadata": {
        "colab": {
          "base_uri": "https://localhost:8080/"
        },
        "id": "1Y6WfLdEji4Z",
        "outputId": "1229b88b-b29b-4138-acf1-c11402176b67"
      },
      "execution_count": 18,
      "outputs": [
        {
          "output_type": "stream",
          "name": "stdout",
          "text": [
            "Classification Report:\n",
            "              precision    recall  f1-score   support\n",
            "\n",
            "           0       0.83      0.90      0.86      1035\n",
            "           1       0.64      0.49      0.56       374\n",
            "\n",
            "    accuracy                           0.79      1409\n",
            "   macro avg       0.74      0.70      0.71      1409\n",
            "weighted avg       0.78      0.79      0.78      1409\n",
            "\n",
            "Cross-validation: 0.8031 (+/- 0.0163)\n"
          ]
        }
      ]
    },
    {
      "cell_type": "markdown",
      "source": [
        "Comparison"
      ],
      "metadata": {
        "id": "VzfwCnkKjx8F"
      }
    },
    {
      "cell_type": "code",
      "source": [
        "comparison_df = pd.DataFrame({\n",
        "    'Model': ['SVM Basic', 'SVM Linear', 'SVM Tuned'],\n",
        "    'Accuracy': [accuracy_basic, accuracy_linear, accuracy_tuned],\n",
        "    'Precision': [precision_basic, precision_linear, precision_tuned],\n",
        "    'Recall': [recall_basic, recall_linear, recall_tuned],\n",
        "    'F1-Score': [f1_basic, f1_linear, f1_tuned],\n",
        "    'AUC-ROC': [auc_basic, auc_linear, auc_tuned],\n",
        "    'CV_Score': [cv_basic.mean(), cv_linear.mean(), cv_tuned.mean()]\n",
        "})\n",
        "\n",
        "print(comparison_df.round(4))"
      ],
      "metadata": {
        "colab": {
          "base_uri": "https://localhost:8080/"
        },
        "id": "Ftt5tZNFj2FV",
        "outputId": "28a90788-421d-4c13-ca54-7b6959c285f4"
      },
      "execution_count": 20,
      "outputs": [
        {
          "output_type": "stream",
          "name": "stdout",
          "text": [
            "        Model  Accuracy  Precision  Recall  F1-Score  AUC-ROC  CV_Score\n",
            "0   SVM Basic    0.7878     0.6307  0.4840    0.5477   0.8143    0.7978\n",
            "1  SVM Linear    0.7942     0.6346  0.5294    0.5773   0.8349    0.8019\n",
            "2   SVM Tuned    0.7928     0.6424  0.4947    0.5589   0.8289    0.8031\n"
          ]
        }
      ]
    },
    {
      "cell_type": "code",
      "source": [
        "best_models = {}\n",
        "for metric in ['Accuracy', 'Precision', 'Recall', 'F1-Score', 'AUC-ROC', 'CV_Score']:\n",
        "    best_idx = comparison_df[metric].idxmax()\n",
        "    best_model = comparison_df.loc[best_idx, 'Model']\n",
        "    best_score = comparison_df.loc[best_idx, metric]\n",
        "    best_models[metric] = (best_model, best_score)\n",
        "    print(f\"{metric:12}: {best_model} ({best_score:.4f})\")\n",
        "\n",
        "# Find overall best model (based on F1-Score as balanced metric)\n",
        "overall_best_model = comparison_df.loc[comparison_df['F1-Score'].idxmax(), 'Model']\n",
        "overall_best_f1 = comparison_df['F1-Score'].max()\n",
        "\n",
        "print(f\"OVERALL BEST MODEL: {overall_best_model}\")\n",
        "print(f\"Best F1-Score: {overall_best_f1:.4f}\")"
      ],
      "metadata": {
        "colab": {
          "base_uri": "https://localhost:8080/"
        },
        "id": "wUqEPOA5j5TF",
        "outputId": "e2afcd25-6abd-4983-9853-f4797395fc2e"
      },
      "execution_count": 21,
      "outputs": [
        {
          "output_type": "stream",
          "name": "stdout",
          "text": [
            "Accuracy    : SVM Linear (0.7942)\n",
            "Precision   : SVM Tuned (0.6424)\n",
            "Recall      : SVM Linear (0.5294)\n",
            "F1-Score    : SVM Linear (0.5773)\n",
            "AUC-ROC     : SVM Linear (0.8349)\n",
            "CV_Score    : SVM Tuned (0.8031)\n",
            "OVERALL BEST MODEL: SVM Linear\n",
            "Best F1-Score: 0.5773\n"
          ]
        }
      ]
    },
    {
      "cell_type": "code",
      "source": [
        "comparison_melted = comparison_df.melt(\n",
        "    'Model',\n",
        "    var_name='Metric',\n",
        "    value_name='Score',\n",
        "    value_vars=['Accuracy', 'Precision', 'Recall', 'F1-Score', 'AUC-ROC', 'CV_Score']\n",
        ")\n",
        "\n",
        "# Highlight the best model in the plot\n",
        "colors = ['#1f77b4', '#ff7f0e', '#2ca02c']\n",
        "highlight_color = '#d62728'  # Red for best model\n",
        "\n",
        "# Find index of best model\n",
        "best_model_idx = comparison_df['Model'].tolist().index(overall_best_model)\n",
        "\n",
        "# Create custom palette with best model highlighted\n",
        "custom_palette = [highlight_color if i == best_model_idx else colors[i] for i in range(3)]\n",
        "\n",
        "plt.figure(figsize=(12, 6))\n",
        "sns.barplot(x='Metric', y='Score', hue='Model', data=comparison_melted,\n",
        "            palette=custom_palette)\n",
        "plt.title(f'SVM Models - Performance Comparison\\n Best Model: {overall_best_model}',\n",
        "          fontsize=14, fontweight='bold')\n",
        "plt.ylabel('Score', fontsize=12)\n",
        "plt.xlabel('Evaluation Metric', fontsize=12)\n",
        "plt.ylim(0, 1)\n",
        "plt.grid(axis='y', alpha=0.3)\n",
        "plt.legend(bbox_to_anchor=(1.05, 1), loc='upper left')\n",
        "plt.tight_layout()\n",
        "plt.show()"
      ],
      "metadata": {
        "colab": {
          "base_uri": "https://localhost:8080/",
          "height": 325
        },
        "id": "YkLIMiD_kBv4",
        "outputId": "c27b1232-f728-4668-9a00-e0c44a9baa35"
      },
      "execution_count": 24,
      "outputs": [
        {
          "output_type": "display_data",
          "data": {
            "text/plain": [
              "<Figure size 1200x600 with 1 Axes>"
            ],
            "image/png": "[encoded data removed]"
          },
          "metadata": {}
        }
      ]
    }
  ]
}