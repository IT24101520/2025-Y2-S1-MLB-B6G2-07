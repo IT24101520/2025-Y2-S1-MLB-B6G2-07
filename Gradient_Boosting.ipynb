{
  "nbformat": 4,
  "nbformat_minor": 0,
  "metadata": {
    "colab": {
      "provenance": []
    },
    "kernelspec": {
      "name": "python3",
      "display_name": "Python 3"
    },
    "language_info": {
      "name": "python"
    }
  },
  "cells": [
    {
      "cell_type": "code",
      "execution_count": 1,
      "metadata": {
        "id": "p_6KgEiE5n37"
      },
      "outputs": [],
      "source": [
        "import numpy as np\n",
        "import pandas as pd\n",
        "from sklearn.decomposition import PCA\n",
        "from sklearn.model_selection import train_test_split, GridSearchCV, cross_val_score\n",
        "from sklearn.metrics import accuracy_score, f1_score, precision_score, recall_score\n",
        "from sklearn.metrics import confusion_matrix, roc_auc_score, classification_report\n",
        "from xgboost import XGBClassifier\n",
        "from sklearn.preprocessing import StandardScaler, LabelEncoder\n",
        "import xgboost as xgb\n",
        "import matplotlib.pyplot as plt\n",
        "import seaborn as sns\n",
        "\n",
        "df= pd.read_csv(\"drive/MyDrive/pca_reduced_dataset.csv\")"
      ]
    },
    {
      "cell_type": "code",
      "source": [
        "print(f\"Dataset shape: {df.shape}\")\n",
        "print(f\"Features: {list(df.columns[:-1])}\")\n",
        "print(f\"Target variable: Churn\")\n",
        "print(f\"Class distribution:\")\n",
        "print(df['Churn'].value_counts())\n",
        "print(f\"Percentage distribution:\")\n",
        "print(df['Churn'].value_counts(normalize=True) * 100)"
      ],
      "metadata": {
        "colab": {
          "base_uri": "https://localhost:8080/"
        },
        "id": "9zcg37nRDJVC",
        "outputId": "40f5b108-81b6-441d-b60c-7e2cb5b75abb"
      },
      "execution_count": 2,
      "outputs": [
        {
          "output_type": "stream",
          "name": "stdout",
          "text": [
            "Dataset shape: (7043, 15)\n",
            "Features: ['PC1', 'PC2', 'PC3', 'PC4', 'PC5', 'PC6', 'PC7', 'PC8', 'PC9', 'PC10', 'PC11', 'PC12', 'PC13', 'PC14']\n",
            "Target variable: Churn\n",
            "Class distribution:\n",
            "Churn\n",
            "0    5174\n",
            "1    1869\n",
            "Name: count, dtype: int64\n",
            "Percentage distribution:\n",
            "Churn\n",
            "0    73.463013\n",
            "1    26.536987\n",
            "Name: proportion, dtype: float64\n"
          ]
        }
      ]
    },
    {
      "cell_type": "code",
      "source": [
        "X = df.drop('Churn', axis=1)\n",
        "y = df['Churn']\n",
        "\n",
        "# Split the data\n",
        "X_train, X_test, y_train, y_test = train_test_split(\n",
        "    X, y, test_size=0.2, random_state=42, stratify=y\n",
        ")"
      ],
      "metadata": {
        "id": "tA9uTSjpDCc6"
      },
      "execution_count": 3,
      "outputs": []
    },
    {
      "cell_type": "code",
      "source": [
        "xgb_basic = XGBClassifier(\n",
        "    random_state=42,\n",
        "    n_estimators=100,\n",
        "    learning_rate=0.1,\n",
        "    max_depth=6,\n",
        "    subsample=0.8,\n",
        "    colsample_bytree=0.8,\n",
        "    scale_pos_weight=(len(y_train) - sum(y_train)) / sum(y_train)  # Handle class imbalance\n",
        ")\n",
        "\n",
        "print(\"Training Basic XGBoost...\")\n",
        "xgb_basic.fit(X_train, y_train)"
      ],
      "metadata": {
        "colab": {
          "base_uri": "https://localhost:8080/",
          "height": 271
        },
        "id": "lQB0QETIDHNu",
        "outputId": "ab8e8df1-baa9-4f4c-9f51-2bd104e52717"
      },
      "execution_count": 4,
      "outputs": [
        {
          "output_type": "stream",
          "name": "stdout",
          "text": [
            "Training Basic XGBoost...\n"
          ]
        },
        {
          "output_type": "execute_result",
          "data": {
            "text/plain": [
              "XGBClassifier(base_score=None, booster=None, callbacks=None,\n",
              "              colsample_bylevel=None, colsample_bynode=None,\n",
              "              colsample_bytree=0.8, device=None, early_stopping_rounds=None,\n",
              "              enable_categorical=False, eval_metric=None, feature_types=None,\n",
              "              feature_weights=None, gamma=None, grow_policy=None,\n",
              "              importance_type=None, interaction_constraints=None,\n",
              "              learning_rate=0.1, max_bin=None, max_cat_threshold=None,\n",
              "              max_cat_to_onehot=None, max_delta_step=None, max_depth=6,\n",
              "              max_leaves=None, min_child_weight=None, missing=nan,\n",
              "              monotone_constraints=None, multi_strategy=None, n_estimators=100,\n",
              "              n_jobs=None, num_parallel_tree=None, ...)"
            ],
            "text/html": [
              "<style>#sk-container-id-1 {\n",
              "  /* Definition of color scheme common for light and dark mode */\n",
              "  --sklearn-color-text: #000;\n",
              "  --sklearn-color-text-muted: #666;\n",
              "  --sklearn-color-line: gray;\n",
              "  /* Definition of color scheme for unfitted estimators */\n",
              "  --sklearn-color-unfitted-level-0: #fff5e6;\n",
              "  --sklearn-color-unfitted-level-1: #f6e4d2;\n",
              "  --sklearn-color-unfitted-level-2: #ffe0b3;\n",
              "  --sklearn-color-unfitted-level-3: chocolate;\n",
              "  /* Definition of color scheme for fitted estimators */\n",
              "  --sklearn-color-fitted-level-0: #f0f8ff;\n",
              "  --sklearn-color-fitted-level-1: #d4ebff;\n",
              "  --sklearn-color-fitted-level-2: #b3dbfd;\n",
              "  --sklearn-color-fitted-level-3: cornflowerblue;\n",
              "\n",
              "  /* Specific color for light theme */\n",
              "  --sklearn-color-text-on-default-background: var(--sg-text-color, var(--theme-code-foreground, var(--jp-content-font-color1, black)));\n",
              "  --sklearn-color-background: var(--sg-background-color, var(--theme-background, var(--jp-layout-color0, white)));\n",
              "  --sklearn-color-border-box: var(--sg-text-color, var(--theme-code-foreground, var(--jp-content-font-color1, black)));\n",
              "  --sklearn-color-icon: #696969;\n",
              "\n",
              "  @media (prefers-color-scheme: dark) {\n",
              "    /* Redefinition of color scheme for dark theme */\n",
              "    --sklearn-color-text-on-default-background: var(--sg-text-color, var(--theme-code-foreground, var(--jp-content-font-color1, white)));\n",
              "    --sklearn-color-background: var(--sg-background-color, var(--theme-background, var(--jp-layout-color0, #111)));\n",
              "    --sklearn-color-border-box: var(--sg-text-color, var(--theme-code-foreground, var(--jp-content-font-color1, white)));\n",
              "    --sklearn-color-icon: #878787;\n",
              "  }\n",
              "}\n",
              "\n",
              "#sk-container-id-1 {\n",
              "  color: var(--sklearn-color-text);\n",
              "}\n",
              "\n",
              "#sk-container-id-1 pre {\n",
              "  padding: 0;\n",
              "}\n",
              "\n",
              "#sk-container-id-1 input.sk-hidden--visually {\n",
              "  border: 0;\n",
              "  clip: rect(1px 1px 1px 1px);\n",
              "  clip: rect(1px, 1px, 1px, 1px);\n",
              "  height: 1px;\n",
              "  margin: -1px;\n",
              "  overflow: hidden;\n",
              "  padding: 0;\n",
              "  position: absolute;\n",
              "  width: 1px;\n",
              "}\n",
              "\n",
              "#sk-container-id-1 div.sk-dashed-wrapped {\n",
              "  border: 1px dashed var(--sklearn-color-line);\n",
              "  margin: 0 0.4em 0.5em 0.4em;\n",
              "  box-sizing: border-box;\n",
              "  padding-bottom: 0.4em;\n",
              "  background-color: var(--sklearn-color-background);\n",
              "}\n",
              "\n",
              "#sk-container-id-1 div.sk-container {\n",
              "  /* jupyter's `normalize.less` sets `[hidden] { display: none; }`\n",
              "     but bootstrap.min.css set `[hidden] { display: none !important; }`\n",
              "     so we also need the `!important` here to be able to override the\n",
              "     default hidden behavior on the sphinx rendered scikit-learn.org.\n",
              "     See: https://github.com/scikit-learn/scikit-learn/issues/21755 */\n",
              "  display: inline-block !important;\n",
              "  position: relative;\n",
              "}\n",
              "\n",
              "#sk-container-id-1 div.sk-text-repr-fallback {\n",
              "  display: none;\n",
              "}\n",
              "\n",
              "div.sk-parallel-item,\n",
              "div.sk-serial,\n",
              "div.sk-item {\n",
              "  /* draw centered vertical line to link estimators */\n",
              "  background-image: linear-gradient(var(--sklearn-color-text-on-default-background), var(--sklearn-color-text-on-default-background));\n",
              "  background-size: 2px 100%;\n",
              "  background-repeat: no-repeat;\n",
              "  background-position: center center;\n",
              "}\n",
              "\n",
              "/* Parallel-specific style estimator block */\n",
              "\n",
              "#sk-container-id-1 div.sk-parallel-item::after {\n",
              "  content: \"\";\n",
              "  width: 100%;\n",
              "  border-bottom: 2px solid var(--sklearn-color-text-on-default-background);\n",
              "  flex-grow: 1;\n",
              "}\n",
              "\n",
              "#sk-container-id-1 div.sk-parallel {\n",
              "  display: flex;\n",
              "  align-items: stretch;\n",
              "  justify-content: center;\n",
              "  background-color: var(--sklearn-color-background);\n",
              "  position: relative;\n",
              "}\n",
              "\n",
              "#sk-container-id-1 div.sk-parallel-item {\n",
              "  display: flex;\n",
              "  flex-direction: column;\n",
              "}\n",
              "\n",
              "#sk-container-id-1 div.sk-parallel-item:first-child::after {\n",
              "  align-self: flex-end;\n",
              "  width: 50%;\n",
              "}\n",
              "\n",
              "#sk-container-id-1 div.sk-parallel-item:last-child::after {\n",
              "  align-self: flex-start;\n",
              "  width: 50%;\n",
              "}\n",
              "\n",
              "#sk-container-id-1 div.sk-parallel-item:only-child::after {\n",
              "  width: 0;\n",
              "}\n",
              "\n",
              "/* Serial-specific style estimator block */\n",
              "\n",
              "#sk-container-id-1 div.sk-serial {\n",
              "  display: flex;\n",
              "  flex-direction: column;\n",
              "  align-items: center;\n",
              "  background-color: var(--sklearn-color-background);\n",
              "  padding-right: 1em;\n",
              "  padding-left: 1em;\n",
              "}\n",
              "\n",
              "\n",
              "/* Toggleable style: style used for estimator/Pipeline/ColumnTransformer box that is\n",
              "clickable and can be expanded/collapsed.\n",
              "- Pipeline and ColumnTransformer use this feature and define the default style\n",
              "- Estimators will overwrite some part of the style using the `sk-estimator` class\n",
              "*/\n",
              "\n",
              "/* Pipeline and ColumnTransformer style (default) */\n",
              "\n",
              "#sk-container-id-1 div.sk-toggleable {\n",
              "  /* Default theme specific background. It is overwritten whether we have a\n",
              "  specific estimator or a Pipeline/ColumnTransformer */\n",
              "  background-color: var(--sklearn-color-background);\n",
              "}\n",
              "\n",
              "/* Toggleable label */\n",
              "#sk-container-id-1 label.sk-toggleable__label {\n",
              "  cursor: pointer;\n",
              "  display: flex;\n",
              "  width: 100%;\n",
              "  margin-bottom: 0;\n",
              "  padding: 0.5em;\n",
              "  box-sizing: border-box;\n",
              "  text-align: center;\n",
              "  align-items: start;\n",
              "  justify-content: space-between;\n",
              "  gap: 0.5em;\n",
              "}\n",
              "\n",
              "#sk-container-id-1 label.sk-toggleable__label .caption {\n",
              "  font-size: 0.6rem;\n",
              "  font-weight: lighter;\n",
              "  color: var(--sklearn-color-text-muted);\n",
              "}\n",
              "\n",
              "#sk-container-id-1 label.sk-toggleable__label-arrow:before {\n",
              "  /* Arrow on the left of the label */\n",
              "  content: \"▸\";\n",
              "  float: left;\n",
              "  margin-right: 0.25em;\n",
              "  color: var(--sklearn-color-icon);\n",
              "}\n",
              "\n",
              "#sk-container-id-1 label.sk-toggleable__label-arrow:hover:before {\n",
              "  color: var(--sklearn-color-text);\n",
              "}\n",
              "\n",
              "/* Toggleable content - dropdown */\n",
              "\n",
              "#sk-container-id-1 div.sk-toggleable__content {\n",
              "  max-height: 0;\n",
              "  max-width: 0;\n",
              "  overflow: hidden;\n",
              "  text-align: left;\n",
              "  /* unfitted */\n",
              "  background-color: var(--sklearn-color-unfitted-level-0);\n",
              "}\n",
              "\n",
              "#sk-container-id-1 div.sk-toggleable__content.fitted {\n",
              "  /* fitted */\n",
              "  background-color: var(--sklearn-color-fitted-level-0);\n",
              "}\n",
              "\n",
              "#sk-container-id-1 div.sk-toggleable__content pre {\n",
              "  margin: 0.2em;\n",
              "  border-radius: 0.25em;\n",
              "  color: var(--sklearn-color-text);\n",
              "  /* unfitted */\n",
              "  background-color: var(--sklearn-color-unfitted-level-0);\n",
              "}\n",
              "\n",
              "#sk-container-id-1 div.sk-toggleable__content.fitted pre {\n",
              "  /* unfitted */\n",
              "  background-color: var(--sklearn-color-fitted-level-0);\n",
              "}\n",
              "\n",
              "#sk-container-id-1 input.sk-toggleable__control:checked~div.sk-toggleable__content {\n",
              "  /* Expand drop-down */\n",
              "  max-height: 200px;\n",
              "  max-width: 100%;\n",
              "  overflow: auto;\n",
              "}\n",
              "\n",
              "#sk-container-id-1 input.sk-toggleable__control:checked~label.sk-toggleable__label-arrow:before {\n",
              "  content: \"▾\";\n",
              "}\n",
              "\n",
              "/* Pipeline/ColumnTransformer-specific style */\n",
              "\n",
              "#sk-container-id-1 div.sk-label input.sk-toggleable__control:checked~label.sk-toggleable__label {\n",
              "  color: var(--sklearn-color-text);\n",
              "  background-color: var(--sklearn-color-unfitted-level-2);\n",
              "}\n",
              "\n",
              "#sk-container-id-1 div.sk-label.fitted input.sk-toggleable__control:checked~label.sk-toggleable__label {\n",
              "  background-color: var(--sklearn-color-fitted-level-2);\n",
              "}\n",
              "\n",
              "/* Estimator-specific style */\n",
              "\n",
              "/* Colorize estimator box */\n",
              "#sk-container-id-1 div.sk-estimator input.sk-toggleable__control:checked~label.sk-toggleable__label {\n",
              "  /* unfitted */\n",
              "  background-color: var(--sklearn-color-unfitted-level-2);\n",
              "}\n",
              "\n",
              "#sk-container-id-1 div.sk-estimator.fitted input.sk-toggleable__control:checked~label.sk-toggleable__label {\n",
              "  /* fitted */\n",
              "  background-color: var(--sklearn-color-fitted-level-2);\n",
              "}\n",
              "\n",
              "#sk-container-id-1 div.sk-label label.sk-toggleable__label,\n",
              "#sk-container-id-1 div.sk-label label {\n",
              "  /* The background is the default theme color */\n",
              "  color: var(--sklearn-color-text-on-default-background);\n",
              "}\n",
              "\n",
              "/* On hover, darken the color of the background */\n",
              "#sk-container-id-1 div.sk-label:hover label.sk-toggleable__label {\n",
              "  color: var(--sklearn-color-text);\n",
              "  background-color: var(--sklearn-color-unfitted-level-2);\n",
              "}\n",
              "\n",
              "/* Label box, darken color on hover, fitted */\n",
              "#sk-container-id-1 div.sk-label.fitted:hover label.sk-toggleable__label.fitted {\n",
              "  color: var(--sklearn-color-text);\n",
              "  background-color: var(--sklearn-color-fitted-level-2);\n",
              "}\n",
              "\n",
              "/* Estimator label */\n",
              "\n",
              "#sk-container-id-1 div.sk-label label {\n",
              "  font-family: monospace;\n",
              "  font-weight: bold;\n",
              "  display: inline-block;\n",
              "  line-height: 1.2em;\n",
              "}\n",
              "\n",
              "#sk-container-id-1 div.sk-label-container {\n",
              "  text-align: center;\n",
              "}\n",
              "\n",
              "/* Estimator-specific */\n",
              "#sk-container-id-1 div.sk-estimator {\n",
              "  font-family: monospace;\n",
              "  border: 1px dotted var(--sklearn-color-border-box);\n",
              "  border-radius: 0.25em;\n",
              "  box-sizing: border-box;\n",
              "  margin-bottom: 0.5em;\n",
              "  /* unfitted */\n",
              "  background-color: var(--sklearn-color-unfitted-level-0);\n",
              "}\n",
              "\n",
              "#sk-container-id-1 div.sk-estimator.fitted {\n",
              "  /* fitted */\n",
              "  background-color: var(--sklearn-color-fitted-level-0);\n",
              "}\n",
              "\n",
              "/* on hover */\n",
              "#sk-container-id-1 div.sk-estimator:hover {\n",
              "  /* unfitted */\n",
              "  background-color: var(--sklearn-color-unfitted-level-2);\n",
              "}\n",
              "\n",
              "#sk-container-id-1 div.sk-estimator.fitted:hover {\n",
              "  /* fitted */\n",
              "  background-color: var(--sklearn-color-fitted-level-2);\n",
              "}\n",
              "\n",
              "/* Specification for estimator info (e.g. \"i\" and \"?\") */\n",
              "\n",
              "/* Common style for \"i\" and \"?\" */\n",
              "\n",
              ".sk-estimator-doc-link,\n",
              "a:link.sk-estimator-doc-link,\n",
              "a:visited.sk-estimator-doc-link {\n",
              "  float: right;\n",
              "  font-size: smaller;\n",
              "  line-height: 1em;\n",
              "  font-family: monospace;\n",
              "  background-color: var(--sklearn-color-background);\n",
              "  border-radius: 1em;\n",
              "  height: 1em;\n",
              "  width: 1em;\n",
              "  text-decoration: none !important;\n",
              "  margin-left: 0.5em;\n",
              "  text-align: center;\n",
              "  /* unfitted */\n",
              "  border: var(--sklearn-color-unfitted-level-1) 1pt solid;\n",
              "  color: var(--sklearn-color-unfitted-level-1);\n",
              "}\n",
              "\n",
              ".sk-estimator-doc-link.fitted,\n",
              "a:link.sk-estimator-doc-link.fitted,\n",
              "a:visited.sk-estimator-doc-link.fitted {\n",
              "  /* fitted */\n",
              "  border: var(--sklearn-color-fitted-level-1) 1pt solid;\n",
              "  color: var(--sklearn-color-fitted-level-1);\n",
              "}\n",
              "\n",
              "/* On hover */\n",
              "div.sk-estimator:hover .sk-estimator-doc-link:hover,\n",
              ".sk-estimator-doc-link:hover,\n",
              "div.sk-label-container:hover .sk-estimator-doc-link:hover,\n",
              ".sk-estimator-doc-link:hover {\n",
              "  /* unfitted */\n",
              "  background-color: var(--sklearn-color-unfitted-level-3);\n",
              "  color: var(--sklearn-color-background);\n",
              "  text-decoration: none;\n",
              "}\n",
              "\n",
              "div.sk-estimator.fitted:hover .sk-estimator-doc-link.fitted:hover,\n",
              ".sk-estimator-doc-link.fitted:hover,\n",
              "div.sk-label-container:hover .sk-estimator-doc-link.fitted:hover,\n",
              ".sk-estimator-doc-link.fitted:hover {\n",
              "  /* fitted */\n",
              "  background-color: var(--sklearn-color-fitted-level-3);\n",
              "  color: var(--sklearn-color-background);\n",
              "  text-decoration: none;\n",
              "}\n",
              "\n",
              "/* Span, style for the box shown on hovering the info icon */\n",
              ".sk-estimator-doc-link span {\n",
              "  display: none;\n",
              "  z-index: 9999;\n",
              "  position: relative;\n",
              "  font-weight: normal;\n",
              "  right: .2ex;\n",
              "  padding: .5ex;\n",
              "  margin: .5ex;\n",
              "  width: min-content;\n",
              "  min-width: 20ex;\n",
              "  max-width: 50ex;\n",
              "  color: var(--sklearn-color-text);\n",
              "  box-shadow: 2pt 2pt 4pt #999;\n",
              "  /* unfitted */\n",
              "  background: var(--sklearn-color-unfitted-level-0);\n",
              "  border: .5pt solid var(--sklearn-color-unfitted-level-3);\n",
              "}\n",
              "\n",
              ".sk-estimator-doc-link.fitted span {\n",
              "  /* fitted */\n",
              "  background: var(--sklearn-color-fitted-level-0);\n",
              "  border: var(--sklearn-color-fitted-level-3);\n",
              "}\n",
              "\n",
              ".sk-estimator-doc-link:hover span {\n",
              "  display: block;\n",
              "}\n",
              "\n",
              "/* \"?\"-specific style due to the `<a>` HTML tag */\n",
              "\n",
              "#sk-container-id-1 a.estimator_doc_link {\n",
              "  float: right;\n",
              "  font-size: 1rem;\n",
              "  line-height: 1em;\n",
              "  font-family: monospace;\n",
              "  background-color: var(--sklearn-color-background);\n",
              "  border-radius: 1rem;\n",
              "  height: 1rem;\n",
              "  width: 1rem;\n",
              "  text-decoration: none;\n",
              "  /* unfitted */\n",
              "  color: var(--sklearn-color-unfitted-level-1);\n",
              "  border: var(--sklearn-color-unfitted-level-1) 1pt solid;\n",
              "}\n",
              "\n",
              "#sk-container-id-1 a.estimator_doc_link.fitted {\n",
              "  /* fitted */\n",
              "  border: var(--sklearn-color-fitted-level-1) 1pt solid;\n",
              "  color: var(--sklearn-color-fitted-level-1);\n",
              "}\n",
              "\n",
              "/* On hover */\n",
              "#sk-container-id-1 a.estimator_doc_link:hover {\n",
              "  /* unfitted */\n",
              "  background-color: var(--sklearn-color-unfitted-level-3);\n",
              "  color: var(--sklearn-color-background);\n",
              "  text-decoration: none;\n",
              "}\n",
              "\n",
              "#sk-container-id-1 a.estimator_doc_link.fitted:hover {\n",
              "  /* fitted */\n",
              "  background-color: var(--sklearn-color-fitted-level-3);\n",
              "}\n",
              "</style><div id=\"sk-container-id-1\" class=\"sk-top-container\"><div class=\"sk-text-repr-fallback\"><pre>XGBClassifier(base_score=None, booster=None, callbacks=None,\n",
              "              colsample_bylevel=None, colsample_bynode=None,\n",
              "              colsample_bytree=0.8, device=None, early_stopping_rounds=None,\n",
              "              enable_categorical=False, eval_metric=None, feature_types=None,\n",
              "              feature_weights=None, gamma=None, grow_policy=None,\n",
              "              importance_type=None, interaction_constraints=None,\n",
              "              learning_rate=0.1, max_bin=None, max_cat_threshold=None,\n",
              "              max_cat_to_onehot=None, max_delta_step=None, max_depth=6,\n",
              "              max_leaves=None, min_child_weight=None, missing=nan,\n",
              "              monotone_constraints=None, multi_strategy=None, n_estimators=100,\n",
              "              n_jobs=None, num_parallel_tree=None, ...)</pre><b>In a Jupyter environment, please rerun this cell to show the HTML representation or trust the notebook. <br />On GitHub, the HTML representation is unable to render, please try loading this page with nbviewer.org.</b></div><div class=\"sk-container\" hidden><div class=\"sk-item\"><div class=\"sk-estimator fitted sk-toggleable\"><input class=\"sk-toggleable__control sk-hidden--visually\" id=\"sk-estimator-id-1\" type=\"checkbox\" checked><label for=\"sk-estimator-id-1\" class=\"sk-toggleable__label fitted sk-toggleable__label-arrow\"><div><div>XGBClassifier</div></div><div><a class=\"sk-estimator-doc-link fitted\" rel=\"noreferrer\" target=\"_blank\" href=\"https://xgboost.readthedocs.io/en/release_3.0.0/python/python_api.html#xgboost.XGBClassifier\">?<span>Documentation for XGBClassifier</span></a><span class=\"sk-estimator-doc-link fitted\">i<span>Fitted</span></span></div></label><div class=\"sk-toggleable__content fitted\"><pre>XGBClassifier(base_score=None, booster=None, callbacks=None,\n",
              "              colsample_bylevel=None, colsample_bynode=None,\n",
              "              colsample_bytree=0.8, device=None, early_stopping_rounds=None,\n",
              "              enable_categorical=False, eval_metric=None, feature_types=None,\n",
              "              feature_weights=None, gamma=None, grow_policy=None,\n",
              "              importance_type=None, interaction_constraints=None,\n",
              "              learning_rate=0.1, max_bin=None, max_cat_threshold=None,\n",
              "              max_cat_to_onehot=None, max_delta_step=None, max_depth=6,\n",
              "              max_leaves=None, min_child_weight=None, missing=nan,\n",
              "              monotone_constraints=None, multi_strategy=None, n_estimators=100,\n",
              "              n_jobs=None, num_parallel_tree=None, ...)</pre></div> </div></div></div></div>"
            ]
          },
          "metadata": {},
          "execution_count": 4
        }
      ]
    },
    {
      "cell_type": "code",
      "source": [
        "y_pred_basic = xgb_basic.predict(X_test)\n",
        "y_pred_proba_basic = xgb_basic.predict_proba(X_test)[:, 1]\n",
        "\n",
        "#performance metrics\n",
        "accuracy_basic = accuracy_score(y_test, y_pred_basic)\n",
        "precision_basic = precision_score(y_test, y_pred_basic)\n",
        "recall_basic = recall_score(y_test, y_pred_basic)\n",
        "f1_basic = f1_score(y_test, y_pred_basic)\n",
        "auc_basic = roc_auc_score(y_test, y_pred_proba_basic)\n",
        "\n",
        "print(f\"PERFORMANCE METRICS - BASIC XGBOOST:\")\n",
        "print(f\"Accuracy:  {accuracy_basic:.4f}\")\n",
        "print(f\"Precision: {precision_basic:.4f}\")\n",
        "print(f\"Recall:    {recall_basic:.4f}\")\n",
        "print(f\"F1-Score:  {f1_basic:.4f}\")\n",
        "print(f\"AUC-ROC:   {auc_basic:.4f}\")\n"
      ],
      "metadata": {
        "colab": {
          "base_uri": "https://localhost:8080/"
        },
        "id": "menvbZWqD0nr",
        "outputId": "d4941d7b-56a1-43e2-cb3f-d1ef3f325372"
      },
      "execution_count": 5,
      "outputs": [
        {
          "output_type": "stream",
          "name": "stdout",
          "text": [
            "PERFORMANCE METRICS - BASIC XGBOOST:\n",
            "Accuracy:  0.7573\n",
            "Precision: 0.5333\n",
            "Recall:    0.6845\n",
            "F1-Score:  0.5995\n",
            "AUC-ROC:   0.8270\n"
          ]
        }
      ]
    },
    {
      "cell_type": "code",
      "source": [
        "cv_scores_basic = cross_val_score(xgb_basic, X, y, cv=5, scoring='accuracy')\n",
        "print(f\"Cross-validation Accuracy: {cv_scores_basic.mean():.4f} (+/- {cv_scores_basic.std() * 2:.4f})\")"
      ],
      "metadata": {
        "colab": {
          "base_uri": "https://localhost:8080/"
        },
        "id": "I4n3h7KyD9iT",
        "outputId": "6c8f6a9f-1458-421f-f354-955952224997"
      },
      "execution_count": 6,
      "outputs": [
        {
          "output_type": "stream",
          "name": "stdout",
          "text": [
            "Cross-validation Accuracy: 0.7654 (+/- 0.0186)\n"
          ]
        }
      ]
    },
    {
      "cell_type": "code",
      "source": [
        "print(f\"CONFUSION MATRIX - BASIC XGBOOST:\")\n",
        "cm_basic = confusion_matrix(y_test, y_pred_basic)\n",
        "print(cm_basic)\n",
        "\n",
        "plt.figure(figsize=(10, 8))\n",
        "sns.heatmap(cm_basic, annot=True, fmt='d', cmap='Blues',\n",
        "            xticklabels=['No Churn (0)', 'Churn (1)'],\n",
        "            yticklabels=['No Churn (0)', 'Churn (1)'],\n",
        "            annot_kws={'size': 16, 'weight': 'bold'})\n",
        "plt.title('Confusion Matrix - Basic XGBoost', fontsize=16, fontweight='bold', pad=20)\n",
        "plt.xlabel('Predicted Label', fontsize=14)\n",
        "plt.ylabel('True Label', fontsize=14)\n",
        "plt.tight_layout()\n",
        "plt.show()\n"
      ],
      "metadata": {
        "colab": {
          "base_uri": "https://localhost:8080/",
          "height": 858
        },
        "id": "9PFhqFR4D_l-",
        "outputId": "adb0f3a8-5a8a-4871-d54a-cbf61f33733b"
      },
      "execution_count": 7,
      "outputs": [
        {
          "output_type": "stream",
          "name": "stdout",
          "text": [
            "CONFUSION MATRIX - BASIC XGBOOST:\n",
            "[[811 224]\n",
            " [118 256]]\n"
          ]
        },
        {
          "output_type": "display_data",
          "data": {
            "text/plain": [
              "<Figure size 1000x800 with 2 Axes>"
            ],
            "image/png": "[encoded data removed]"
          },
          "metadata": {}
        }
      ]
    },
    {
      "cell_type": "code",
      "source": [
        "print(f\"CLASSIFICATION REPORT - BASIC XGBOOST:\")\n",
        "print(classification_report(y_test, y_pred_basic, target_names=['No Churn', 'Churn']))"
      ],
      "metadata": {
        "colab": {
          "base_uri": "https://localhost:8080/"
        },
        "id": "_gv1RWyAEFKt",
        "outputId": "e5c550c3-cd37-40d6-96e5-de59b8861361"
      },
      "execution_count": 8,
      "outputs": [
        {
          "output_type": "stream",
          "name": "stdout",
          "text": [
            "CLASSIFICATION REPORT - BASIC XGBOOST:\n",
            "              precision    recall  f1-score   support\n",
            "\n",
            "    No Churn       0.87      0.78      0.83      1035\n",
            "       Churn       0.53      0.68      0.60       374\n",
            "\n",
            "    accuracy                           0.76      1409\n",
            "   macro avg       0.70      0.73      0.71      1409\n",
            "weighted avg       0.78      0.76      0.77      1409\n",
            "\n"
          ]
        }
      ]
    },
    {
      "cell_type": "code",
      "source": [
        "feature_importance_basic = pd.DataFrame({\n",
        "    'Feature': X.columns,\n",
        "    'Importance': xgb_basic.feature_importances_\n",
        "}).sort_values('Importance', ascending=False)\n",
        "\n",
        "print(f\"TOP 10 FEATURE IMPORTANCES - BASIC XGBOOST:\")\n",
        "print(feature_importance_basic.head(10).round(4))\n",
        "\n",
        "plt.figure(figsize=(12, 8))\n",
        "top_features_basic = feature_importance_basic.head(10)\n",
        "colors = plt.cm.viridis(np.linspace(0, 1, len(top_features_basic)))\n",
        "plt.barh(top_features_basic['Feature'], top_features_basic['Importance'], color=colors)\n",
        "plt.xlabel('Feature Importance Score', fontsize=12)\n",
        "plt.title('Top 10 Feature Importances - Basic XGBoost', fontsize=16, fontweight='bold')\n",
        "plt.gca().invert_yaxis()\n",
        "plt.grid(axis='x', alpha=0.3)\n",
        "plt.tight_layout()\n",
        "plt.show()"
      ],
      "metadata": {
        "colab": {
          "base_uri": "https://localhost:8080/",
          "height": 1000
        },
        "id": "bxjDsOXhEIgl",
        "outputId": "276f2097-5e6a-49c3-c82e-c15c71a7fb4a"
      },
      "execution_count": 9,
      "outputs": [
        {
          "output_type": "stream",
          "name": "stdout",
          "text": [
            "TOP 10 FEATURE IMPORTANCES - BASIC XGBOOST:\n",
            "   Feature  Importance\n",
            "1      PC2      0.2390\n",
            "7      PC8      0.1108\n",
            "0      PC1      0.0968\n",
            "2      PC3      0.0745\n",
            "9     PC10      0.0508\n",
            "8      PC9      0.0508\n",
            "12    PC13      0.0503\n",
            "4      PC5      0.0494\n",
            "6      PC7      0.0484\n",
            "10    PC11      0.0478\n"
          ]
        },
        {
          "output_type": "display_data",
          "data": {
            "text/plain": [
              "<Figure size 1200x800 with 1 Axes>"
            ],
            "image/png": "[encoded data removed]"
          },
          "metadata": {}
        }
      ]
    },
    {
      "cell_type": "markdown",
      "source": [
        "Variety 2 - Hyperparameter tuned"
      ],
      "metadata": {
        "id": "VzoDsTnxFTNy"
      }
    },
    {
      "cell_type": "code",
      "source": [
        "param_grid_xgb = {\n",
        "    'n_estimators': [100, 200, 300],\n",
        "    'max_depth': [3, 6, 9],\n",
        "    'learning_rate': [0.01, 0.1, 0.2],\n",
        "    'subsample': [0.7, 0.8, 0.9],\n",
        "    'colsample_bytree': [0.7, 0.8, 0.9],\n",
        "    'gamma': [0, 0.1, 0.2]\n",
        "}\n",
        "\n",
        "print(\"Performing hyperparameter tuning with GridSearchCV...\")\n",
        "xgb_tuned = GridSearchCV(\n",
        "    XGBClassifier(\n",
        "        random_state=42,\n",
        "        scale_pos_weight=(len(y_train) - sum(y_train)) / sum(y_train)\n",
        "    ),\n",
        "    param_grid_xgb,\n",
        "    cv=3,\n",
        "    scoring='f1',\n",
        "    n_jobs=-1,\n",
        "    verbose=1\n",
        ")\n",
        "\n",
        "xgb_tuned.fit(X_train, y_train)\n",
        "print(\"Hyperparameter tuning completed!\")\n",
        "\n",
        "# Best parameters\n",
        "print(f\"BEST PARAMETERS FOUND:\")\n",
        "best_params_xgb = xgb_tuned.best_params_\n",
        "for param, value in best_params_xgb.items():\n",
        "    print(f\"   {param}: {value}\")\n",
        "print(f\"Best CV Score (F1): {xgb_tuned.best_score_:.4f}\")"
      ],
      "metadata": {
        "colab": {
          "base_uri": "https://localhost:8080/"
        },
        "id": "8Yuc7qEiFYgB",
        "outputId": "41a30865-aa13-4933-8e19-84e5cd41cba4"
      },
      "execution_count": null,
      "outputs": [
        {
          "output_type": "stream",
          "name": "stdout",
          "text": [
            "Performing hyperparameter tuning with GridSearchCV...\n",
            "Fitting 3 folds for each of 729 candidates, totalling 2187 fits\n"
          ]
        }
      ]
    },
    {
      "cell_type": "code",
      "source": [
        "best_xgb_tuned = xgb_tuned.best_estimator_\n",
        "\n",
        "#Predictions using tests\n",
        "y_pred_tuned = best_xgb_tuned.predict(X_test)\n",
        "y_pred_proba_tuned = best_xgb_tuned.predict_proba(X_test)[:, 1]\n",
        "\n",
        "#Performance metrics\n",
        "accuracy_tuned = accuracy_score(y_test, y_pred_tuned)\n",
        "precision_tuned = precision_score(y_test, y_pred_tuned)\n",
        "recall_tuned = recall_score(y_test, y_pred_tuned)\n",
        "f1_tuned = f1_score(y_test, y_pred_tuned)\n",
        "auc_tuned = roc_auc_score(y_test, y_pred_proba_tuned)\n",
        "\n",
        "print(f\"PERFORMANCE METRICS - TUNED XGBOOST:\")\n",
        "print(f\"Accuracy:  {accuracy_tuned:.4f}\")\n",
        "print(f\"Precision: {precision_tuned:.4f}\")\n",
        "print(f\"Recall:    {recall_tuned:.4f}\")\n",
        "print(f\"F1-Score:  {f1_tuned:.4f}\")\n",
        "print(f\"AUC-ROC:   {auc_tuned:.4f}\")\n"
      ],
      "metadata": {
        "id": "KNMToi-qFx8l"
      },
      "execution_count": null,
      "outputs": []
    },
    {
      "cell_type": "code",
      "source": [
        "cv_scores_tuned = cross_val_score(best_xgb_tuned, X, y, cv=5, scoring='accuracy')\n",
        "print(f\"Cross-validation Accuracy: {cv_scores_tuned.mean():.4f} (+/- {cv_scores_tuned.std() * 2:.4f})\")\n"
      ],
      "metadata": {
        "id": "YIGXFVj2F1ED"
      },
      "execution_count": null,
      "outputs": []
    },
    {
      "cell_type": "code",
      "source": [
        "print(f\"CONFUSION MATRIX - TUNED XGBOOST:\")\n",
        "cm_tuned = confusion_matrix(y_test, y_pred_tuned)\n",
        "print(cm_tuned)\n",
        "\n",
        "plt.figure(figsize=(10, 8))\n",
        "sns.heatmap(cm_tuned, annot=True, fmt='d', cmap='Greens',\n",
        "            xticklabels=['No Churn (0)', 'Churn (1)'],\n",
        "            yticklabels=['No Churn (0)', 'Churn (1)'],\n",
        "            annot_kws={'size': 16, 'weight': 'bold'})\n",
        "plt.title('Confusion Matrix - Tuned XGBoost', fontsize=16, fontweight='bold', pad=20)\n",
        "plt.xlabel('Predicted Label', fontsize=14)\n",
        "plt.ylabel('True Label', fontsize=14)\n",
        "plt.tight_layout()\n",
        "plt.show()"
      ],
      "metadata": {
        "id": "D04yVVq4F34C"
      },
      "execution_count": null,
      "outputs": []
    },
    {
      "cell_type": "code",
      "source": [
        "print(f\"CLASSIFICATION REPORT - TUNED XGBOOST:\")\n",
        "print(classification_report(y_test, y_pred_tuned, target_names=['No Churn', 'Churn']))"
      ],
      "metadata": {
        "id": "7MNy1ykhF4h5"
      },
      "execution_count": null,
      "outputs": []
    },
    {
      "cell_type": "markdown",
      "source": [
        "Variety 3 - Focused XGBoost(High precision)"
      ],
      "metadata": {
        "id": "A6cp56FjGONY"
      }
    },
    {
      "cell_type": "code",
      "source": [
        "xgb_focused = XGBClassifier(\n",
        "    random_state=42,\n",
        "    n_estimators=200,\n",
        "    max_depth=4,\n",
        "    learning_rate=0.05,\n",
        "    subsample=0.7,\n",
        "    colsample_bytree=0.7,\n",
        "    gamma=0.2,\n",
        "    reg_alpha=0.1,\n",
        "    reg_lambda=1.0,\n",
        "    scale_pos_weight=(len(y_train) - sum(y_train)) / sum(y_train) * 0.5\n",
        ")\n",
        "\n",
        "print(\"Training Focused XGBoost (High Precision)...\")\n",
        "xgb_focused.fit(X_train, y_train)"
      ],
      "metadata": {
        "id": "HEcEPkHaGWYO"
      },
      "execution_count": null,
      "outputs": []
    },
    {
      "cell_type": "code",
      "source": [
        "y_pred_focused = xgb_focused.predict(X_test)\n",
        "y_pred_proba_focused = xgb_focused.predict_proba(X_test)[:, 1]\n",
        "\n",
        "#Performance metrics\n",
        "accuracy_focused = accuracy_score(y_test, y_pred_focused)\n",
        "precision_focused = precision_score(y_test, y_pred_focused)\n",
        "recall_focused = recall_score(y_test, y_pred_focused)\n",
        "f1_focused = f1_score(y_test, y_pred_focused)\n",
        "auc_focused = roc_auc_score(y_test, y_pred_proba_focused)\n",
        "\n",
        "print(f\"PERFORMANCE METRICS - FOCUSED XGBOOST:\")\n",
        "print(f\"Accuracy:  {accuracy_focused:.4f}\")\n",
        "print(f\"Precision: {precision_focused:.4f}\")\n",
        "print(f\"Recall:    {recall_focused:.4f}\")\n",
        "print(f\"F1-Score:  {f1_focused:.4f}\")\n",
        "print(f\"AUC-ROC:   {auc_focused:.4f}\")"
      ],
      "metadata": {
        "id": "-Ll0GRc9GdWq"
      },
      "execution_count": null,
      "outputs": []
    },
    {
      "cell_type": "code",
      "source": [
        "cv_scores_focused = cross_val_score(xgb_focused, X, y, cv=5, scoring='accuracy')\n",
        "print(f\"Cross-validation Accuracy: {cv_scores_focused.mean():.4f} (+/- {cv_scores_focused.std() * 2:.4f})\")\n"
      ],
      "metadata": {
        "id": "Q-Xw4Ld_GgeR"
      },
      "execution_count": null,
      "outputs": []
    },
    {
      "cell_type": "code",
      "source": [
        "cm_focused = confusion_matrix(y_test, y_pred_focused)\n",
        "print(cm_focused)\n",
        "\n",
        "plt.figure(figsize=(10, 8))\n",
        "sns.heatmap(cm_focused, annot=True, fmt='d', cmap='Oranges',\n",
        "            xticklabels=['No Churn (0)', 'Churn (1)'],\n",
        "            yticklabels=['No Churn (0)', 'Churn (1)'],\n",
        "            annot_kws={'size': 16, 'weight': 'bold'})\n",
        "plt.title('Confusion Matrix - Focused XGBoost', fontsize=16, fontweight='bold', pad=20)\n",
        "plt.xlabel('Predicted Label', fontsize=14)\n",
        "plt.ylabel('True Label', fontsize=14)\n",
        "plt.tight_layout()\n",
        "plt.show()"
      ],
      "metadata": {
        "id": "fA2ZztIzGjEV"
      },
      "execution_count": null,
      "outputs": []
    },
    {
      "cell_type": "code",
      "source": [
        "print(f\"CLASSIFICATION REPORT - FOCUSED XGBOOST:\")\n",
        "print(classification_report(y_test, y_pred_focused, target_names=['No Churn', 'Churn']))"
      ],
      "metadata": {
        "id": "EAO4luJ4Gj3J"
      },
      "execution_count": null,
      "outputs": []
    },
    {
      "cell_type": "markdown",
      "source": [
        "Comparison"
      ],
      "metadata": {
        "id": "9GlxU0zar3Nd"
      }
    },
    {
      "cell_type": "code",
      "source": [
        "comparison_summary = pd.DataFrame({\n",
        "    'Model': ['Basic XGBoost', 'Tuned XGBoost', 'Focused XGBoost'],\n",
        "    'AUC_ROC': [auc_basic, auc_tuned, auc_focused],\n",
        "    'Accuracy': [accuracy_basic, accuracy_tuned, accuracy_focused],\n",
        "    'Precision': [precision_basic, precision_tuned, precision_focused],\n",
        "    'Recall': [recall_basic, recall_tuned, recall_focused],\n",
        "    'F1_Score': [f1_basic, f1_tuned, f1_focused],\n",
        "    'CV_Accuracy': [cv_scores_basic.mean(), cv_scores_tuned.mean(), cv_scores_focused.mean()],\n",
        "    'CV_Std': [cv_scores_basic.std(), cv_scores_tuned.std(), cv_scores_focused.std()]\n",
        "})\n",
        "\n",
        "print(\"\\nPERFORMANCE COMPARISON of all:\")\n",
        "print(comparison_summary.round(4))\n"
      ],
      "metadata": {
        "id": "uGt1YAdaG4sz"
      },
      "execution_count": null,
      "outputs": []
    },
    {
      "cell_type": "code",
      "source": [
        "best_auc_model = comparison_summary.loc[comparison_summary['AUC_ROC'].idxmax()]\n",
        "best_f1_model = comparison_summary.loc[comparison_summary['F1_Score'].idxmax()]\n",
        "best_precision_model = comparison_summary.loc[comparison_summary['Precision'].idxmax()]\n",
        "\n",
        "print(f\"\\nBest model varient:\")\n",
        "print(f\"Best AUC Score: {best_auc_model['Model']} (AUC: {best_auc_model['AUC_ROC']:.4f})\")\n",
        "print(f\"Best F1-Score:  {best_f1_model['Model']} (F1: {best_f1_model['F1_Score']:.4f})\")\n",
        "print(f\"Best Precision: {best_precision_model['Model']} (Precision: {best_precision_model['Precision']:.4f})\")"
      ],
      "metadata": {
        "id": "LBGxs6lbG5j1"
      },
      "execution_count": null,
      "outputs": []
    },
    {
      "cell_type": "code",
      "source": [
        "comparison_melted = comparison_summary.melt(\n",
        "    'Model',\n",
        "    var_name='Metric',\n",
        "    value_name='Score',\n",
        "    value_vars=['Accuracy', 'Precision', 'Recall', 'F1_Score', 'AUC_ROC', 'CV_Accuracy']\n",
        ")\n",
        "\n",
        "plt.figure(figsize=(14, 8))\n",
        "sns.barplot(x='Metric', y='Score', hue='Model', data=comparison_melted)\n",
        "plt.title('XGBoost Models - Performance Comparison', fontsize=16, fontweight='bold')\n",
        "plt.ylabel('Score', fontsize=12)\n",
        "plt.xlabel('Evaluation Metric', fontsize=12)\n",
        "plt.ylim(0, 1)\n",
        "plt.grid(axis='y', alpha=0.3)\n",
        "plt.legend(bbox_to_anchor=(1.05, 1), loc='upper left')\n",
        "plt.tight_layout()\n",
        "plt.show()"
      ],
      "metadata": {
        "id": "BLP1jSeIG5lG"
      },
      "execution_count": null,
      "outputs": []
    },
    {
      "cell_type": "code",
      "source": [
        "print(\"BEST PERFORMING MODEL FOR EACH METRIC:\")\n",
        "for metric in ['Accuracy', 'Precision', 'Recall', 'F1_Score', 'AUC_ROC', 'CV_Accuracy']:\n",
        "    best_model = comparison_summary.loc[comparison_summary[metric].idxmax(), 'Model']\n",
        "    best_score = comparison_summary[metric].max()\n",
        "    print(f\"   {metric}: {best_model} ({best_score:.4f})\")\n",
        "\n",
        "# Overall best model based on F1-Score (balanced metric)\n",
        "best_overall = comparison_summary.loc[comparison_summary['F1_Score'].idxmax(), 'Model']\n",
        "best_f1 = comparison_summary['F1_Score'].max()\n",
        "print(f\"\\nOVERALL BEST MODEL: {best_overall}\")\n",
        "print(f\"F1-Score: {best_f1:.4f}\")"
      ],
      "metadata": {
        "id": "hR6ipKfPS3RP"
      },
      "execution_count": null,
      "outputs": []
    }
  ]
}