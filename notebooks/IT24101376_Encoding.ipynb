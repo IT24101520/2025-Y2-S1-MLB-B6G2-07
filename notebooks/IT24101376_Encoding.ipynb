{
 "cells": [
  {
   "cell_type": "code",
   "id": "initial_id",
   "metadata": {
    "collapsed": true,
    "ExecuteTime": {
     "end_time": "2025-09-22T17:34:02.324297Z",
     "start_time": "2025-09-22T17:34:02.317746Z"
    }
   },
   "source": [
    "import pandas as pd\n",
    "import numpy as np\n",
    "import matplotlib.pyplot as plt\n",
    "import seaborn as sns\n",
    "%matplotlib inline\n",
    "sns.set(color_codes=True)\n",
    "from sklearn.preprocessing import OneHotEncoder, LabelEncoder\n",
    "import os"
   ],
   "outputs": [],
   "execution_count": 15
  },
  {
   "metadata": {
    "ExecuteTime": {
     "end_time": "2025-09-22T17:34:02.369614Z",
     "start_time": "2025-09-22T17:34:02.339518Z"
    }
   },
   "cell_type": "code",
   "source": [
    "df = pd.read_csv(\"../data/cleaned_dataset.csv\")\n",
    "print(df.head())\n",
    "print(df.shape)"
   ],
   "id": "be5b52b498a8f8fa",
   "outputs": [
    {
     "name": "stdout",
     "output_type": "stream",
     "text": [
      "   customerID  gender  SeniorCitizen Partner Dependents  tenure PhoneService  \\\n",
      "0  7590-vhveg    male            0.0     yes         no     1.0           no   \n",
      "1  5575-gnvde    male            0.0      no         no    34.0          yes   \n",
      "2  3668-qpybk    male            0.0      no         no     2.0          yes   \n",
      "3  7795-cfocw    male            0.0      no         no    -5.0           no   \n",
      "4  9237-hqitu  female            0.0      no         no     2.0          yes   \n",
      "\n",
      "      MultipleLines InternetService OnlineSecurity  ... DeviceProtection  \\\n",
      "0  no phone service             dsl             no  ...               no   \n",
      "1                no             dsl            yes  ...              yes   \n",
      "2                no             dsl            yes  ...               no   \n",
      "3  no phone service             dsl            yes  ...              yes   \n",
      "4                no     fiber optic             no  ...               no   \n",
      "\n",
      "  TechSupport StreamingTV StreamingMovies        Contract PaperlessBilling  \\\n",
      "0          no          no              no  month-to-month              yes   \n",
      "1          no          no              no        one year               no   \n",
      "2          no          no              no  month-to-month              yes   \n",
      "3         yes          no              no        one year               no   \n",
      "4          no          no              no  month-to-month              yes   \n",
      "\n",
      "               PaymentMethod MonthlyCharges  TotalCharges  Churn  \n",
      "0           electronic check          29.85         29.85     no  \n",
      "1               mailed check          70.35       1889.50     no  \n",
      "2               mailed check          53.85          0.00    yes  \n",
      "3  bank transfer (automatic)          42.30       1840.75     no  \n",
      "4           electronic check          70.35        151.65    yes  \n",
      "\n",
      "[5 rows x 21 columns]\n",
      "(7042, 21)\n"
     ]
    }
   ],
   "execution_count": 16
  },
  {
   "metadata": {
    "ExecuteTime": {
     "end_time": "2025-09-22T17:34:02.384793Z",
     "start_time": "2025-09-22T17:34:02.379290Z"
    }
   },
   "cell_type": "code",
   "source": [
    "categorical_cols = df.select_dtypes(include=['object']).columns.tolist()\n",
    "print(\"\\nCategorical columns:\", categorical_cols)"
   ],
   "id": "67f6259f335f9092",
   "outputs": [
    {
     "name": "stdout",
     "output_type": "stream",
     "text": [
      "\n",
      "Categorical columns: ['customerID', 'gender', 'Partner', 'Dependents', 'PhoneService', 'MultipleLines', 'InternetService', 'OnlineSecurity', 'OnlineBackup', 'DeviceProtection', 'TechSupport', 'StreamingTV', 'StreamingMovies', 'Contract', 'PaperlessBilling', 'PaymentMethod', 'Churn']\n"
     ]
    }
   ],
   "execution_count": 17
  },
  {
   "metadata": {
    "ExecuteTime": {
     "end_time": "2025-09-22T17:34:02.421889Z",
     "start_time": "2025-09-22T17:34:02.407890Z"
    }
   },
   "cell_type": "code",
   "source": [
    "for col in categorical_cols:\n",
    "    print(f\"{col} unique values:\", df[col].unique())"
   ],
   "id": "a5dbdc205535eb10",
   "outputs": [
    {
     "name": "stdout",
     "output_type": "stream",
     "text": [
      "customerID unique values: ['7590-vhveg' '5575-gnvde' '3668-qpybk' ... '4801-jzazl' '8361-ltmkd'\n",
      " '3186-ajiek']\n",
      "gender unique values: ['male' 'female']\n",
      "Partner unique values: ['yes' 'no']\n",
      "Dependents unique values: ['no' 'yes']\n",
      "PhoneService unique values: ['no' 'yes']\n",
      "MultipleLines unique values: ['no phone service' 'no' 'yes']\n",
      "InternetService unique values: ['dsl' 'fiber optic' 'no']\n",
      "OnlineSecurity unique values: ['no' 'yes' 'no internet service']\n",
      "OnlineBackup unique values: ['yes' 'no' 'no internet service']\n",
      "DeviceProtection unique values: ['no' 'yes' 'no internet service']\n",
      "TechSupport unique values: ['no' 'yes' 'no internet service']\n",
      "StreamingTV unique values: ['no' 'yes' 'no internet service']\n",
      "StreamingMovies unique values: ['no' 'yes' 'no internet service']\n",
      "Contract unique values: ['month-to-month' 'one year' 'two year']\n",
      "PaperlessBilling unique values: ['yes' 'no']\n",
      "PaymentMethod unique values: ['electronic check' 'mailed check' 'bank transfer (automatic)'\n",
      " 'credit card (automatic)']\n",
      "Churn unique values: ['no' 'yes']\n"
     ]
    }
   ],
   "execution_count": 18
  },
  {
   "metadata": {
    "ExecuteTime": {
     "end_time": "2025-09-22T17:34:02.434988Z",
     "start_time": "2025-09-22T17:34:02.432147Z"
    }
   },
   "cell_type": "code",
   "source": [
    "binary_cols = ['gender', 'Partner', 'Dependents', 'PhoneService', 'PaperlessBilling','Churn']\n",
    "label_encoder = LabelEncoder()"
   ],
   "id": "48486c349633fc90",
   "outputs": [],
   "execution_count": 19
  },
  {
   "metadata": {
    "ExecuteTime": {
     "end_time": "2025-09-22T17:34:02.486120Z",
     "start_time": "2025-09-22T17:34:02.473025Z"
    }
   },
   "cell_type": "code",
   "source": [
    "for col in binary_cols:\n",
    "    df[col] = label_encoder.fit_transform(df[col])\n",
    "    print(f\"\\nEncoded {col} :\", df[col].head().values)"
   ],
   "id": "ae002df62a6ba073",
   "outputs": [
    {
     "name": "stdout",
     "output_type": "stream",
     "text": [
      "\n",
      "Encoded gender : [1 1 1 1 0]\n",
      "\n",
      "Encoded Partner : [1 0 0 0 0]\n",
      "\n",
      "Encoded Dependents : [0 0 0 0 0]\n",
      "\n",
      "Encoded PhoneService : [0 1 1 0 1]\n",
      "\n",
      "Encoded PaperlessBilling : [1 0 1 0 1]\n",
      "\n",
      "Encoded Churn : [0 0 1 0 1]\n"
     ]
    }
   ],
   "execution_count": 20
  },
  {
   "metadata": {
    "ExecuteTime": {
     "end_time": "2025-09-22T17:34:02.522662Z",
     "start_time": "2025-09-22T17:34:02.498418Z"
    }
   },
   "cell_type": "code",
   "source": [
    "multi_cols = [\n",
    "    'MultipleLines', 'InternetService', 'OnlineSecurity', 'OnlineBackup',\n",
    "    'DeviceProtection', 'TechSupport', 'StreamingTV', 'StreamingMovies',\n",
    "    'Contract', 'PaymentMethod']\n",
    "\n",
    "\n",
    "multi_cols = [col for col in multi_cols if col in df.columns]\n",
    "\n",
    "df = pd.get_dummies(df, columns=multi_cols, prefix=multi_cols, drop_first=True, dtype=int)\n",
    "\n",
    "print(\"\\nEncoded DataFrame shape:\", df.shape)\n",
    "print(\"Encoded columns sample:\")\n",
    "print(df.head())"
   ],
   "id": "8af4480776a714df",
   "outputs": [
    {
     "name": "stdout",
     "output_type": "stream",
     "text": [
      "\n",
      "Encoded DataFrame shape: (7042, 32)\n",
      "Encoded columns sample:\n",
      "   customerID  gender  SeniorCitizen  Partner  Dependents  tenure  \\\n",
      "0  7590-vhveg       1            0.0        1           0     1.0   \n",
      "1  5575-gnvde       1            0.0        0           0    34.0   \n",
      "2  3668-qpybk       1            0.0        0           0     2.0   \n",
      "3  7795-cfocw       1            0.0        0           0    -5.0   \n",
      "4  9237-hqitu       0            0.0        0           0     2.0   \n",
      "\n",
      "   PhoneService  PaperlessBilling  MonthlyCharges  TotalCharges  ...  \\\n",
      "0             0                 1           29.85         29.85  ...   \n",
      "1             1                 0           70.35       1889.50  ...   \n",
      "2             1                 1           53.85          0.00  ...   \n",
      "3             0                 0           42.30       1840.75  ...   \n",
      "4             1                 1           70.35        151.65  ...   \n",
      "\n",
      "   TechSupport_yes  StreamingTV_no internet service  StreamingTV_yes  \\\n",
      "0                0                                0                0   \n",
      "1                0                                0                0   \n",
      "2                0                                0                0   \n",
      "3                1                                0                0   \n",
      "4                0                                0                0   \n",
      "\n",
      "   StreamingMovies_no internet service  StreamingMovies_yes  \\\n",
      "0                                    0                    0   \n",
      "1                                    0                    0   \n",
      "2                                    0                    0   \n",
      "3                                    0                    0   \n",
      "4                                    0                    0   \n",
      "\n",
      "   Contract_one year  Contract_two year  \\\n",
      "0                  0                  0   \n",
      "1                  1                  0   \n",
      "2                  0                  0   \n",
      "3                  1                  0   \n",
      "4                  0                  0   \n",
      "\n",
      "   PaymentMethod_credit card (automatic)  PaymentMethod_electronic check  \\\n",
      "0                                      0                               1   \n",
      "1                                      0                               0   \n",
      "2                                      0                               0   \n",
      "3                                      0                               0   \n",
      "4                                      0                               1   \n",
      "\n",
      "   PaymentMethod_mailed check  \n",
      "0                           0  \n",
      "1                           1  \n",
      "2                           1  \n",
      "3                           0  \n",
      "4                           0  \n",
      "\n",
      "[5 rows x 32 columns]\n"
     ]
    }
   ],
   "execution_count": 21
  },
  {
   "metadata": {
    "ExecuteTime": {
     "end_time": "2025-09-22T17:34:02.799690Z",
     "start_time": "2025-09-22T17:34:02.534366Z"
    }
   },
   "cell_type": "code",
   "source": [
    "plt.figure(figsize=(8, 6))\n",
    "ax = sns.countplot(x='gender', data=df, palette=['lightpink', 'lightblue'])\n",
    "plt.title('Gender Distribution')\n",
    "plt.xlabel('Gender (0=Female, 1=Male)')\n",
    "plt.ylabel('Count')\n",
    "\n",
    "plt.savefig('../results/eda_visualizations/IT24101376/totalcharges_distribution2.png',\n",
    "            dpi=300, bbox_inches='tight')\n",
    "plt.show()\n",
    "\n",
    "\n",
    "plt.close()\n"
   ],
   "id": "eb334af59a37ae9d",
   "outputs": [
    {
     "name": "stderr",
     "output_type": "stream",
     "text": [
      "C:\\Users\\ASUS TUF\\AppData\\Local\\Temp\\ipykernel_8300\\2111054564.py:2: FutureWarning: \n",
      "\n",
      "Passing `palette` without assigning `hue` is deprecated and will be removed in v0.14.0. Assign the `x` variable to `hue` and set `legend=False` for the same effect.\n",
      "\n",
      "  ax = sns.countplot(x='gender', data=df, palette=['lightpink', 'lightblue'])\n"
     ]
    },
    {
     "data": {
      "text/plain": [
       "<Figure size 800x600 with 1 Axes>"
      ],
      "image/png": "[encoded data removed]"
     },
     "metadata": {},
     "output_type": "display_data"
    }
   ],
   "execution_count": 22
  },
  {
   "metadata": {
    "ExecuteTime": {
     "end_time": "2025-09-22T17:34:03.061002Z",
     "start_time": "2025-09-22T17:34:02.814212Z"
    }
   },
   "cell_type": "code",
   "source": [
    "\n",
    "print(\"Available columns with 'Internet':\")\n",
    "internet_cols_available = [col for col in df.columns if 'Internet' in col]\n",
    "print(internet_cols_available)\n",
    "\n",
    "if not internet_cols_available:\n",
    "    print(\"No InternetService columns found. Skipping visualization.\")\n",
    "else:\n",
    "    internet_cols = internet_cols_available\n",
    "    internet_counts = df[internet_cols].sum()\n",
    "\n",
    "    if len(internet_cols) == 2:\n",
    "        dsl_count = len(df) - internet_counts.sum()\n",
    "        internet_counts = pd.concat([internet_counts,\n",
    "                                   pd.Series({'InternetService_DSL': dsl_count})])\n",
    "\n",
    "\n",
    "    internet_counts.plot(kind='bar', color=['lightcoral', 'lightgreen', 'skyblue'])\n",
    "    plt.title('Internet Service Distribution', fontsize=14, fontweight='bold')\n",
    "    plt.xlabel('Internet Service Type')\n",
    "    plt.ylabel('Number of Customers')\n",
    "    plt.xticks(rotation=0)\n",
    "    plt.tight_layout()\n",
    "\n",
    "\n",
    "    save_path = '../results/eda_visualizations/IT24101376/totalcharges_distribution3.png'\n",
    "    os.makedirs(os.path.dirname(save_path), exist_ok=True)\n",
    "    plt.savefig(save_path, dpi=300, bbox_inches='tight')\n",
    "    plt.show()\n",
    "    plt.close()"
   ],
   "id": "4a82ce9841c52e2e",
   "outputs": [
    {
     "name": "stdout",
     "output_type": "stream",
     "text": [
      "Available columns with 'Internet':\n",
      "['InternetService_fiber optic', 'InternetService_no']\n"
     ]
    },
    {
     "data": {
      "text/plain": [
       "<Figure size 640x480 with 1 Axes>"
      ],
      "image/png": "[encoded data removed]"
     },
     "metadata": {},
     "output_type": "display_data"
    }
   ],
   "execution_count": 23
  },
  {
   "metadata": {
    "ExecuteTime": {
     "end_time": "2025-09-22T17:34:03.119744Z",
     "start_time": "2025-09-22T17:34:03.078422Z"
    }
   },
   "cell_type": "code",
   "source": "df.to_csv(\"C:/Users/ASUS TUF/PycharmProjects/2025-Y2-S1-MLB-B6G2-07/data/encode_dataset.csv\", index=False)\n",
   "id": "3d36694900581468",
   "outputs": [],
   "execution_count": 24
  }
 ],
 "metadata": {
  "kernelspec": {
   "display_name": "Python 3",
   "language": "python",
   "name": "python3"
  },
  "language_info": {
   "codemirror_mode": {
    "name": "ipython",
    "version": 2
   },
   "file_extension": ".py",
   "mimetype": "text/x-python",
   "name": "python",
   "nbconvert_exporter": "python",
   "pygments_lexer": "ipython2",
   "version": "2.7.6"
  }
 },
 "nbformat": 4,
 "nbformat_minor": 5
}
