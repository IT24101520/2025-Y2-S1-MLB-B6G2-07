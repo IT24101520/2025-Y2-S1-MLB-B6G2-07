{
 "cells": [
  {
   "cell_type": "code",
   "id": "initial_id",
   "metadata": {
    "collapsed": true,
    "ExecuteTime": {
     "end_time": "2025-09-22T09:07:34.592829Z",
     "start_time": "2025-09-22T09:07:34.587911Z"
    }
   },
   "source": [
    "# Outlier Removal using IQR Method\n",
    "# 1. Import required libraries\n",
    "import pandas as pd\n",
    "import numpy as np\n",
    "import matplotlib.pyplot as plt"
   ],
   "outputs": [],
   "execution_count": 2
  },
  {
   "metadata": {
    "ExecuteTime": {
     "end_time": "2025-09-22T09:19:15.669772Z",
     "start_time": "2025-09-22T09:19:15.645912Z"
    }
   },
   "cell_type": "code",
   "source": [
    "# 2. Load dataset\n",
    "df_before= pd.read_csv(\"../data/encode_dataset.csv\")\n"
   ],
   "id": "96e1b07de2406630",
   "outputs": [],
   "execution_count": 23
  },
  {
   "metadata": {
    "ExecuteTime": {
     "end_time": "2025-09-22T09:09:21.530413Z",
     "start_time": "2025-09-22T09:09:21.525811Z"
    }
   },
   "cell_type": "code",
   "source": [
    "# 3. Select numerical columns\n",
    "num_cols = ['tenure', 'MonthlyCharges', 'TotalCharges']"
   ],
   "id": "244935c4f310892a",
   "outputs": [],
   "execution_count": 6
  },
  {
   "metadata": {
    "ExecuteTime": {
     "end_time": "2025-09-22T11:36:44.863775Z",
     "start_time": "2025-09-22T11:36:44.836844Z"
    }
   },
   "cell_type": "code",
   "source": [
    "# 4. Save original shape for comparison\n",
    "original_shape = df_before.shape\n"
   ],
   "id": "21a12d4cef56f69",
   "outputs": [],
   "execution_count": 25
  },
  {
   "metadata": {
    "ExecuteTime": {
     "end_time": "2025-09-22T11:40:14.070699Z",
     "start_time": "2025-09-22T11:40:14.037548Z"
    }
   },
   "cell_type": "code",
   "source": [
    "# 5. Calculate Q1, Q3, and IQR\n",
    "# Convert 'TotalCharges' to numeric, coercing errors to NaN\n",
    "df_before['TotalCharges'] = pd.to_numeric(df_before['TotalCharges'], errors='coerce')\n",
    "\n",
    "Q1 = df_before[num_cols].quantile(0.25)   # 25th percentile\n",
    "Q3 = df_before[num_cols].quantile(0.75)   # 75th percentile\n",
    "IQR = Q3 - Q1                             # Interquartile Range"
   ],
   "id": "d12ebba37b506bb4",
   "outputs": [],
   "execution_count": 26
  },
  {
   "metadata": {
    "ExecuteTime": {
     "end_time": "2025-09-22T09:09:56.495169Z",
     "start_time": "2025-09-22T09:09:56.485578Z"
    }
   },
   "cell_type": "code",
   "source": [
    "# 6. Identify outliers for each numerical column\n",
    "print(\"===== Outliers in Each Column =====\")\n",
    "for col in num_cols:\n",
    "    lower_bound = Q1[col] - 1.5 * IQR[col]\n",
    "    upper_bound = Q3[col] + 1.5 * IQR[col]\n",
    "    outliers = df_before[(df_before[col] < lower_bound) | (df_before[col] > upper_bound)][col]\n",
    "    print(f\"{col} - Number of outliers: {len(outliers)}\")\n",
    "    print(outliers.values, \"\\n\")   # Display actual outlier values\n"
   ],
   "id": "877f9210896f07ae",
   "outputs": [
    {
     "name": "stdout",
     "output_type": "stream",
     "text": [
      "===== Outliers in Each Column =====\n",
      "tenure - Number of outliers: 0\n",
      "[] \n",
      "\n",
      "MonthlyCharges - Number of outliers: 0\n",
      "[] \n",
      "\n",
      "TotalCharges - Number of outliers: 0\n",
      "[] \n",
      "\n"
     ]
    }
   ],
   "execution_count": 12
  },
  {
   "metadata": {
    "ExecuteTime": {
     "end_time": "2025-09-22T09:10:10.504311Z",
     "start_time": "2025-09-22T09:10:10.492825Z"
    }
   },
   "cell_type": "code",
   "source": [
    "# 7. Remove outliers (values outside Q1 - 1.5*IQR and Q3 + 1.5*IQR)\n",
    "df_after = df_before[~((df_before[num_cols] < (Q1 - 1.5 * IQR)) |\n",
    "                       (df_before[num_cols] > (Q3 + 1.5 * IQR))).any(axis=1)]\n"
   ],
   "id": "692b1f45635effa9",
   "outputs": [],
   "execution_count": 14
  },
  {
   "metadata": {
    "ExecuteTime": {
     "end_time": "2025-09-22T09:10:20.278446Z",
     "start_time": "2025-09-22T09:10:20.272005Z"
    }
   },
   "cell_type": "code",
   "source": [
    "# 8. Compare dataset shapes before and after outlier removal\n",
    "print(\"Shape before:\", original_shape)   # Original dataset size\n",
    "print(\"Shape after :\", df_after.shape)   # After outlier removal\n"
   ],
   "id": "f228bcde6c2b1f18",
   "outputs": [
    {
     "name": "stdout",
     "output_type": "stream",
     "text": [
      "Shape before: (7043, 32)\n",
      "Shape after : (7043, 32)\n"
     ]
    }
   ],
   "execution_count": 16
  },
  {
   "metadata": {
    "ExecuteTime": {
     "end_time": "2025-09-22T09:16:27.356483Z",
     "start_time": "2025-09-22T09:16:26.570386Z"
    }
   },
   "cell_type": "code",
   "source": [
    "# 9. Visualization - Boxplots (Before vs After for MonthlyCharges)\n",
    "plt.figure(figsize=(12,5))\n",
    "\n",
    "# Before outlier removal\n",
    "plt.subplot(1,2,1)\n",
    "plt.boxplot(df_before['MonthlyCharges'], vert=False)\n",
    "plt.title('MonthlyCharges - Before Outlier Removal')\n",
    "plt.xlabel('MonthlyCharges')\n",
    "\n",
    "# After outlier removal\n",
    "plt.subplot(1,2,2)\n",
    "plt.boxplot(df_after['MonthlyCharges'], vert=False)\n",
    "plt.title('MonthlyCharges - After Outlier Removal')\n",
    "plt.xlabel('MonthlyCharges')\n",
    "\n",
    "plt.tight_layout()\n",
    "plt.show\n",
    "\n",
    "plt.savefig('../results/eda_visualizations/IT24101551/totalcharges_distribution4.png',\n",
    "            dpi=300, bbox_inches='tight')\n",
    "plt.show()\n",
    "\n",
    "\n",
    "plt.close()"
   ],
   "id": "7bf49bcd4ee3ae22",
   "outputs": [
    {
     "data": {
      "text/plain": [
       "<Figure size 1200x500 with 2 Axes>"
      ],
      "image/png": "[encoded data removed]"
     },
     "metadata": {},
     "output_type": "display_data"
    }
   ],
   "execution_count": 20
  },
  {
   "metadata": {
    "ExecuteTime": {
     "end_time": "2025-09-22T09:19:27.563153Z",
     "start_time": "2025-09-22T09:19:27.493578Z"
    }
   },
   "cell_type": "code",
   "source": "df_before.to_csv(\"C:/Users/ASUS TUF/PycharmProjects/2025-Y2-S1-MLB-B6G2-07/data/Outlier_remove_dataset.csv\", index=False)\n",
   "id": "8dd03de8a9fefdb8",
   "outputs": [],
   "execution_count": 24
  }
 ],
 "metadata": {
  "kernelspec": {
   "display_name": "Python 3",
   "language": "python",
   "name": "python3"
  },
  "language_info": {
   "codemirror_mode": {
    "name": "ipython",
    "version": 2
   },
   "file_extension": ".py",
   "mimetype": "text/x-python",
   "name": "python",
   "nbconvert_exporter": "python",
   "pygments_lexer": "ipython2",
   "version": "2.7.6"
  }
 },
 "nbformat": 4,
 "nbformat_minor": 5
}
