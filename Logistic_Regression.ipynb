{
  "nbformat": 4,
  "nbformat_minor": 0,
  "metadata": {
    "colab": {
      "provenance": []
    },
    "kernelspec": {
      "name": "python3",
      "display_name": "Python 3"
    },
    "language_info": {
      "name": "python"
    }
  },
  "cells": [
    {
      "cell_type": "code",
      "execution_count": 1,
      "metadata": {
        "id": "uIaCmEyAE6X0"
      },
      "outputs": [],
      "source": [
        "import pandas as pd\n",
        "import numpy as np\n",
        "from sklearn.model_selection import train_test_split, GridSearchCV, cross_val_score\n",
        "from sklearn.linear_model import LogisticRegression\n",
        "from sklearn.metrics import precision_score, recall_score, f1_score, roc_auc_score\n",
        "from sklearn.metrics import accuracy_score, classification_report, confusion_matrix\n",
        "from sklearn.preprocessing import StandardScaler\n",
        "import matplotlib.pyplot as plt\n",
        "import seaborn as sns\n",
        "\n",
        "df= pd.read_csv(\"drive/MyDrive/pca_reduced_dataset.csv\")"
      ]
    },
    {
      "cell_type": "code",
      "source": [
        "print(\"Dataset shape:\", df.shape)\n",
        "print(\"\\nFirst 5 rows:\")\n",
        "print(df.head())\n",
        "print(\"\\nDataset info:\")\n",
        "print(df.info())\n",
        "print(\"\\nClass distribution:\")\n",
        "print(df['Churn'].value_counts())\n",
        "print(\"\\nPercentage distribution:\")\n",
        "print(df['Churn'].value_counts(normalize=True) * 100)"
      ],
      "metadata": {
        "colab": {
          "base_uri": "https://localhost:8080/"
        },
        "id": "LtlHsM8-mwBr",
        "outputId": "962af5f7-d509-42ff-d221-feb1b999066c"
      },
      "execution_count": 2,
      "outputs": [
        {
          "output_type": "stream",
          "name": "stdout",
          "text": [
            "Dataset shape: (7043, 15)\n",
            "\n",
            "First 5 rows:\n",
            "        PC1       PC2       PC3       PC4       PC5       PC6       PC7  \\\n",
            "0 -0.826706 -1.373583 -1.230767 -0.087034  1.283266 -0.712259  0.129103   \n",
            "1 -0.201515 -0.126850 -1.014370 -0.258006 -0.705918  0.652936 -0.216050   \n",
            "2 -0.456477 -1.324500 -0.911066 -0.079200 -0.499640  0.499167 -0.566206   \n",
            "3 -0.176442  0.380674 -1.888965 -0.769751 -0.064559  0.539682  0.187003   \n",
            "4  0.014410 -1.833934  0.274640 -0.250129  0.332321 -0.552265 -0.254106   \n",
            "\n",
            "        PC8       PC9      PC10      PC11      PC12      PC13      PC14  Churn  \n",
            "0 -0.044028  0.123456  0.226739  0.257677  0.671813  0.579817  0.011222      0  \n",
            "1  0.606991 -0.826557  0.098576 -0.548355 -0.388974 -0.362146  0.618746      0  \n",
            "2 -0.012590  0.036379  0.973500  0.384069  0.314796 -0.042328  0.070555      1  \n",
            "3  0.527100 -0.594101 -0.337365 -0.252536 -0.640810  0.017788  0.420809      0  \n",
            "4 -0.130753  0.006342 -0.006539  0.255177 -0.173405 -0.516260  0.146374      1  \n",
            "\n",
            "Dataset info:\n",
            "<class 'pandas.core.frame.DataFrame'>\n",
            "RangeIndex: 7043 entries, 0 to 7042\n",
            "Data columns (total 15 columns):\n",
            " #   Column  Non-Null Count  Dtype  \n",
            "---  ------  --------------  -----  \n",
            " 0   PC1     7043 non-null   float64\n",
            " 1   PC2     7043 non-null   float64\n",
            " 2   PC3     7043 non-null   float64\n",
            " 3   PC4     7043 non-null   float64\n",
            " 4   PC5     7043 non-null   float64\n",
            " 5   PC6     7043 non-null   float64\n",
            " 6   PC7     7043 non-null   float64\n",
            " 7   PC8     7043 non-null   float64\n",
            " 8   PC9     7043 non-null   float64\n",
            " 9   PC10    7043 non-null   float64\n",
            " 10  PC11    7043 non-null   float64\n",
            " 11  PC12    7043 non-null   float64\n",
            " 12  PC13    7043 non-null   float64\n",
            " 13  PC14    7043 non-null   float64\n",
            " 14  Churn   7043 non-null   int64  \n",
            "dtypes: float64(14), int64(1)\n",
            "memory usage: 825.5 KB\n",
            "None\n",
            "\n",
            "Class distribution:\n",
            "Churn\n",
            "0    5174\n",
            "1    1869\n",
            "Name: count, dtype: int64\n",
            "\n",
            "Percentage distribution:\n",
            "Churn\n",
            "0    73.463013\n",
            "1    26.536987\n",
            "Name: proportion, dtype: float64\n"
          ]
        }
      ]
    },
    {
      "cell_type": "code",
      "source": [
        "# Separate features and target\n",
        "X = df.drop('Churn', axis=1)\n",
        "y = df['Churn']\n",
        "\n",
        "# Split the data into training and testing sets\n",
        "X_train, X_test, y_train, y_test = train_test_split(\n",
        "    X, y, test_size=0.2, random_state=42, stratify=y\n",
        ")\n",
        "\n",
        "\n",
        "print(f\"\\nTraining set size: {X_train.shape}\")\n",
        "print(f\"Test set size: {X_test.shape}\")"
      ],
      "metadata": {
        "colab": {
          "base_uri": "https://localhost:8080/"
        },
        "id": "tpqLjrSasSwu",
        "outputId": "b9e74a4f-d4c5-4ecb-f0d3-647078e99f4d"
      },
      "execution_count": 3,
      "outputs": [
        {
          "output_type": "stream",
          "name": "stdout",
          "text": [
            "\n",
            "Training set size: (5634, 14)\n",
            "Test set size: (1409, 14)\n"
          ]
        }
      ]
    },
    {
      "cell_type": "code",
      "source": [
        "logreg = LogisticRegression(\n",
        "    random_state=42,\n",
        "    max_iter=1000,\n",
        "    class_weight='balanced'\n",
        ")\n",
        "\n",
        "logreg.fit(X_train, y_train)"
      ],
      "metadata": {
        "colab": {
          "base_uri": "https://localhost:8080/",
          "height": 80
        },
        "id": "ZJOcV-uIsSyn",
        "outputId": "cfc81947-99ac-4b67-b61d-5b24e4711daf"
      },
      "execution_count": 4,
      "outputs": [
        {
          "output_type": "execute_result",
          "data": {
            "text/plain": [
              "LogisticRegression(class_weight='balanced', max_iter=1000, random_state=42)"
            ],
            "text/html": [
              "<style>#sk-container-id-1 {\n",
              "  /* Definition of color scheme common for light and dark mode */\n",
              "  --sklearn-color-text: #000;\n",
              "  --sklearn-color-text-muted: #666;\n",
              "  --sklearn-color-line: gray;\n",
              "  /* Definition of color scheme for unfitted estimators */\n",
              "  --sklearn-color-unfitted-level-0: #fff5e6;\n",
              "  --sklearn-color-unfitted-level-1: #f6e4d2;\n",
              "  --sklearn-color-unfitted-level-2: #ffe0b3;\n",
              "  --sklearn-color-unfitted-level-3: chocolate;\n",
              "  /* Definition of color scheme for fitted estimators */\n",
              "  --sklearn-color-fitted-level-0: #f0f8ff;\n",
              "  --sklearn-color-fitted-level-1: #d4ebff;\n",
              "  --sklearn-color-fitted-level-2: #b3dbfd;\n",
              "  --sklearn-color-fitted-level-3: cornflowerblue;\n",
              "\n",
              "  /* Specific color for light theme */\n",
              "  --sklearn-color-text-on-default-background: var(--sg-text-color, var(--theme-code-foreground, var(--jp-content-font-color1, black)));\n",
              "  --sklearn-color-background: var(--sg-background-color, var(--theme-background, var(--jp-layout-color0, white)));\n",
              "  --sklearn-color-border-box: var(--sg-text-color, var(--theme-code-foreground, var(--jp-content-font-color1, black)));\n",
              "  --sklearn-color-icon: #696969;\n",
              "\n",
              "  @media (prefers-color-scheme: dark) {\n",
              "    /* Redefinition of color scheme for dark theme */\n",
              "    --sklearn-color-text-on-default-background: var(--sg-text-color, var(--theme-code-foreground, var(--jp-content-font-color1, white)));\n",
              "    --sklearn-color-background: var(--sg-background-color, var(--theme-background, var(--jp-layout-color0, #111)));\n",
              "    --sklearn-color-border-box: var(--sg-text-color, var(--theme-code-foreground, var(--jp-content-font-color1, white)));\n",
              "    --sklearn-color-icon: #878787;\n",
              "  }\n",
              "}\n",
              "\n",
              "#sk-container-id-1 {\n",
              "  color: var(--sklearn-color-text);\n",
              "}\n",
              "\n",
              "#sk-container-id-1 pre {\n",
              "  padding: 0;\n",
              "}\n",
              "\n",
              "#sk-container-id-1 input.sk-hidden--visually {\n",
              "  border: 0;\n",
              "  clip: rect(1px 1px 1px 1px);\n",
              "  clip: rect(1px, 1px, 1px, 1px);\n",
              "  height: 1px;\n",
              "  margin: -1px;\n",
              "  overflow: hidden;\n",
              "  padding: 0;\n",
              "  position: absolute;\n",
              "  width: 1px;\n",
              "}\n",
              "\n",
              "#sk-container-id-1 div.sk-dashed-wrapped {\n",
              "  border: 1px dashed var(--sklearn-color-line);\n",
              "  margin: 0 0.4em 0.5em 0.4em;\n",
              "  box-sizing: border-box;\n",
              "  padding-bottom: 0.4em;\n",
              "  background-color: var(--sklearn-color-background);\n",
              "}\n",
              "\n",
              "#sk-container-id-1 div.sk-container {\n",
              "  /* jupyter's `normalize.less` sets `[hidden] { display: none; }`\n",
              "     but bootstrap.min.css set `[hidden] { display: none !important; }`\n",
              "     so we also need the `!important` here to be able to override the\n",
              "     default hidden behavior on the sphinx rendered scikit-learn.org.\n",
              "     See: https://github.com/scikit-learn/scikit-learn/issues/21755 */\n",
              "  display: inline-block !important;\n",
              "  position: relative;\n",
              "}\n",
              "\n",
              "#sk-container-id-1 div.sk-text-repr-fallback {\n",
              "  display: none;\n",
              "}\n",
              "\n",
              "div.sk-parallel-item,\n",
              "div.sk-serial,\n",
              "div.sk-item {\n",
              "  /* draw centered vertical line to link estimators */\n",
              "  background-image: linear-gradient(var(--sklearn-color-text-on-default-background), var(--sklearn-color-text-on-default-background));\n",
              "  background-size: 2px 100%;\n",
              "  background-repeat: no-repeat;\n",
              "  background-position: center center;\n",
              "}\n",
              "\n",
              "/* Parallel-specific style estimator block */\n",
              "\n",
              "#sk-container-id-1 div.sk-parallel-item::after {\n",
              "  content: \"\";\n",
              "  width: 100%;\n",
              "  border-bottom: 2px solid var(--sklearn-color-text-on-default-background);\n",
              "  flex-grow: 1;\n",
              "}\n",
              "\n",
              "#sk-container-id-1 div.sk-parallel {\n",
              "  display: flex;\n",
              "  align-items: stretch;\n",
              "  justify-content: center;\n",
              "  background-color: var(--sklearn-color-background);\n",
              "  position: relative;\n",
              "}\n",
              "\n",
              "#sk-container-id-1 div.sk-parallel-item {\n",
              "  display: flex;\n",
              "  flex-direction: column;\n",
              "}\n",
              "\n",
              "#sk-container-id-1 div.sk-parallel-item:first-child::after {\n",
              "  align-self: flex-end;\n",
              "  width: 50%;\n",
              "}\n",
              "\n",
              "#sk-container-id-1 div.sk-parallel-item:last-child::after {\n",
              "  align-self: flex-start;\n",
              "  width: 50%;\n",
              "}\n",
              "\n",
              "#sk-container-id-1 div.sk-parallel-item:only-child::after {\n",
              "  width: 0;\n",
              "}\n",
              "\n",
              "/* Serial-specific style estimator block */\n",
              "\n",
              "#sk-container-id-1 div.sk-serial {\n",
              "  display: flex;\n",
              "  flex-direction: column;\n",
              "  align-items: center;\n",
              "  background-color: var(--sklearn-color-background);\n",
              "  padding-right: 1em;\n",
              "  padding-left: 1em;\n",
              "}\n",
              "\n",
              "\n",
              "/* Toggleable style: style used for estimator/Pipeline/ColumnTransformer box that is\n",
              "clickable and can be expanded/collapsed.\n",
              "- Pipeline and ColumnTransformer use this feature and define the default style\n",
              "- Estimators will overwrite some part of the style using the `sk-estimator` class\n",
              "*/\n",
              "\n",
              "/* Pipeline and ColumnTransformer style (default) */\n",
              "\n",
              "#sk-container-id-1 div.sk-toggleable {\n",
              "  /* Default theme specific background. It is overwritten whether we have a\n",
              "  specific estimator or a Pipeline/ColumnTransformer */\n",
              "  background-color: var(--sklearn-color-background);\n",
              "}\n",
              "\n",
              "/* Toggleable label */\n",
              "#sk-container-id-1 label.sk-toggleable__label {\n",
              "  cursor: pointer;\n",
              "  display: flex;\n",
              "  width: 100%;\n",
              "  margin-bottom: 0;\n",
              "  padding: 0.5em;\n",
              "  box-sizing: border-box;\n",
              "  text-align: center;\n",
              "  align-items: start;\n",
              "  justify-content: space-between;\n",
              "  gap: 0.5em;\n",
              "}\n",
              "\n",
              "#sk-container-id-1 label.sk-toggleable__label .caption {\n",
              "  font-size: 0.6rem;\n",
              "  font-weight: lighter;\n",
              "  color: var(--sklearn-color-text-muted);\n",
              "}\n",
              "\n",
              "#sk-container-id-1 label.sk-toggleable__label-arrow:before {\n",
              "  /* Arrow on the left of the label */\n",
              "  content: \"▸\";\n",
              "  float: left;\n",
              "  margin-right: 0.25em;\n",
              "  color: var(--sklearn-color-icon);\n",
              "}\n",
              "\n",
              "#sk-container-id-1 label.sk-toggleable__label-arrow:hover:before {\n",
              "  color: var(--sklearn-color-text);\n",
              "}\n",
              "\n",
              "/* Toggleable content - dropdown */\n",
              "\n",
              "#sk-container-id-1 div.sk-toggleable__content {\n",
              "  max-height: 0;\n",
              "  max-width: 0;\n",
              "  overflow: hidden;\n",
              "  text-align: left;\n",
              "  /* unfitted */\n",
              "  background-color: var(--sklearn-color-unfitted-level-0);\n",
              "}\n",
              "\n",
              "#sk-container-id-1 div.sk-toggleable__content.fitted {\n",
              "  /* fitted */\n",
              "  background-color: var(--sklearn-color-fitted-level-0);\n",
              "}\n",
              "\n",
              "#sk-container-id-1 div.sk-toggleable__content pre {\n",
              "  margin: 0.2em;\n",
              "  border-radius: 0.25em;\n",
              "  color: var(--sklearn-color-text);\n",
              "  /* unfitted */\n",
              "  background-color: var(--sklearn-color-unfitted-level-0);\n",
              "}\n",
              "\n",
              "#sk-container-id-1 div.sk-toggleable__content.fitted pre {\n",
              "  /* unfitted */\n",
              "  background-color: var(--sklearn-color-fitted-level-0);\n",
              "}\n",
              "\n",
              "#sk-container-id-1 input.sk-toggleable__control:checked~div.sk-toggleable__content {\n",
              "  /* Expand drop-down */\n",
              "  max-height: 200px;\n",
              "  max-width: 100%;\n",
              "  overflow: auto;\n",
              "}\n",
              "\n",
              "#sk-container-id-1 input.sk-toggleable__control:checked~label.sk-toggleable__label-arrow:before {\n",
              "  content: \"▾\";\n",
              "}\n",
              "\n",
              "/* Pipeline/ColumnTransformer-specific style */\n",
              "\n",
              "#sk-container-id-1 div.sk-label input.sk-toggleable__control:checked~label.sk-toggleable__label {\n",
              "  color: var(--sklearn-color-text);\n",
              "  background-color: var(--sklearn-color-unfitted-level-2);\n",
              "}\n",
              "\n",
              "#sk-container-id-1 div.sk-label.fitted input.sk-toggleable__control:checked~label.sk-toggleable__label {\n",
              "  background-color: var(--sklearn-color-fitted-level-2);\n",
              "}\n",
              "\n",
              "/* Estimator-specific style */\n",
              "\n",
              "/* Colorize estimator box */\n",
              "#sk-container-id-1 div.sk-estimator input.sk-toggleable__control:checked~label.sk-toggleable__label {\n",
              "  /* unfitted */\n",
              "  background-color: var(--sklearn-color-unfitted-level-2);\n",
              "}\n",
              "\n",
              "#sk-container-id-1 div.sk-estimator.fitted input.sk-toggleable__control:checked~label.sk-toggleable__label {\n",
              "  /* fitted */\n",
              "  background-color: var(--sklearn-color-fitted-level-2);\n",
              "}\n",
              "\n",
              "#sk-container-id-1 div.sk-label label.sk-toggleable__label,\n",
              "#sk-container-id-1 div.sk-label label {\n",
              "  /* The background is the default theme color */\n",
              "  color: var(--sklearn-color-text-on-default-background);\n",
              "}\n",
              "\n",
              "/* On hover, darken the color of the background */\n",
              "#sk-container-id-1 div.sk-label:hover label.sk-toggleable__label {\n",
              "  color: var(--sklearn-color-text);\n",
              "  background-color: var(--sklearn-color-unfitted-level-2);\n",
              "}\n",
              "\n",
              "/* Label box, darken color on hover, fitted */\n",
              "#sk-container-id-1 div.sk-label.fitted:hover label.sk-toggleable__label.fitted {\n",
              "  color: var(--sklearn-color-text);\n",
              "  background-color: var(--sklearn-color-fitted-level-2);\n",
              "}\n",
              "\n",
              "/* Estimator label */\n",
              "\n",
              "#sk-container-id-1 div.sk-label label {\n",
              "  font-family: monospace;\n",
              "  font-weight: bold;\n",
              "  display: inline-block;\n",
              "  line-height: 1.2em;\n",
              "}\n",
              "\n",
              "#sk-container-id-1 div.sk-label-container {\n",
              "  text-align: center;\n",
              "}\n",
              "\n",
              "/* Estimator-specific */\n",
              "#sk-container-id-1 div.sk-estimator {\n",
              "  font-family: monospace;\n",
              "  border: 1px dotted var(--sklearn-color-border-box);\n",
              "  border-radius: 0.25em;\n",
              "  box-sizing: border-box;\n",
              "  margin-bottom: 0.5em;\n",
              "  /* unfitted */\n",
              "  background-color: var(--sklearn-color-unfitted-level-0);\n",
              "}\n",
              "\n",
              "#sk-container-id-1 div.sk-estimator.fitted {\n",
              "  /* fitted */\n",
              "  background-color: var(--sklearn-color-fitted-level-0);\n",
              "}\n",
              "\n",
              "/* on hover */\n",
              "#sk-container-id-1 div.sk-estimator:hover {\n",
              "  /* unfitted */\n",
              "  background-color: var(--sklearn-color-unfitted-level-2);\n",
              "}\n",
              "\n",
              "#sk-container-id-1 div.sk-estimator.fitted:hover {\n",
              "  /* fitted */\n",
              "  background-color: var(--sklearn-color-fitted-level-2);\n",
              "}\n",
              "\n",
              "/* Specification for estimator info (e.g. \"i\" and \"?\") */\n",
              "\n",
              "/* Common style for \"i\" and \"?\" */\n",
              "\n",
              ".sk-estimator-doc-link,\n",
              "a:link.sk-estimator-doc-link,\n",
              "a:visited.sk-estimator-doc-link {\n",
              "  float: right;\n",
              "  font-size: smaller;\n",
              "  line-height: 1em;\n",
              "  font-family: monospace;\n",
              "  background-color: var(--sklearn-color-background);\n",
              "  border-radius: 1em;\n",
              "  height: 1em;\n",
              "  width: 1em;\n",
              "  text-decoration: none !important;\n",
              "  margin-left: 0.5em;\n",
              "  text-align: center;\n",
              "  /* unfitted */\n",
              "  border: var(--sklearn-color-unfitted-level-1) 1pt solid;\n",
              "  color: var(--sklearn-color-unfitted-level-1);\n",
              "}\n",
              "\n",
              ".sk-estimator-doc-link.fitted,\n",
              "a:link.sk-estimator-doc-link.fitted,\n",
              "a:visited.sk-estimator-doc-link.fitted {\n",
              "  /* fitted */\n",
              "  border: var(--sklearn-color-fitted-level-1) 1pt solid;\n",
              "  color: var(--sklearn-color-fitted-level-1);\n",
              "}\n",
              "\n",
              "/* On hover */\n",
              "div.sk-estimator:hover .sk-estimator-doc-link:hover,\n",
              ".sk-estimator-doc-link:hover,\n",
              "div.sk-label-container:hover .sk-estimator-doc-link:hover,\n",
              ".sk-estimator-doc-link:hover {\n",
              "  /* unfitted */\n",
              "  background-color: var(--sklearn-color-unfitted-level-3);\n",
              "  color: var(--sklearn-color-background);\n",
              "  text-decoration: none;\n",
              "}\n",
              "\n",
              "div.sk-estimator.fitted:hover .sk-estimator-doc-link.fitted:hover,\n",
              ".sk-estimator-doc-link.fitted:hover,\n",
              "div.sk-label-container:hover .sk-estimator-doc-link.fitted:hover,\n",
              ".sk-estimator-doc-link.fitted:hover {\n",
              "  /* fitted */\n",
              "  background-color: var(--sklearn-color-fitted-level-3);\n",
              "  color: var(--sklearn-color-background);\n",
              "  text-decoration: none;\n",
              "}\n",
              "\n",
              "/* Span, style for the box shown on hovering the info icon */\n",
              ".sk-estimator-doc-link span {\n",
              "  display: none;\n",
              "  z-index: 9999;\n",
              "  position: relative;\n",
              "  font-weight: normal;\n",
              "  right: .2ex;\n",
              "  padding: .5ex;\n",
              "  margin: .5ex;\n",
              "  width: min-content;\n",
              "  min-width: 20ex;\n",
              "  max-width: 50ex;\n",
              "  color: var(--sklearn-color-text);\n",
              "  box-shadow: 2pt 2pt 4pt #999;\n",
              "  /* unfitted */\n",
              "  background: var(--sklearn-color-unfitted-level-0);\n",
              "  border: .5pt solid var(--sklearn-color-unfitted-level-3);\n",
              "}\n",
              "\n",
              ".sk-estimator-doc-link.fitted span {\n",
              "  /* fitted */\n",
              "  background: var(--sklearn-color-fitted-level-0);\n",
              "  border: var(--sklearn-color-fitted-level-3);\n",
              "}\n",
              "\n",
              ".sk-estimator-doc-link:hover span {\n",
              "  display: block;\n",
              "}\n",
              "\n",
              "/* \"?\"-specific style due to the `<a>` HTML tag */\n",
              "\n",
              "#sk-container-id-1 a.estimator_doc_link {\n",
              "  float: right;\n",
              "  font-size: 1rem;\n",
              "  line-height: 1em;\n",
              "  font-family: monospace;\n",
              "  background-color: var(--sklearn-color-background);\n",
              "  border-radius: 1rem;\n",
              "  height: 1rem;\n",
              "  width: 1rem;\n",
              "  text-decoration: none;\n",
              "  /* unfitted */\n",
              "  color: var(--sklearn-color-unfitted-level-1);\n",
              "  border: var(--sklearn-color-unfitted-level-1) 1pt solid;\n",
              "}\n",
              "\n",
              "#sk-container-id-1 a.estimator_doc_link.fitted {\n",
              "  /* fitted */\n",
              "  border: var(--sklearn-color-fitted-level-1) 1pt solid;\n",
              "  color: var(--sklearn-color-fitted-level-1);\n",
              "}\n",
              "\n",
              "/* On hover */\n",
              "#sk-container-id-1 a.estimator_doc_link:hover {\n",
              "  /* unfitted */\n",
              "  background-color: var(--sklearn-color-unfitted-level-3);\n",
              "  color: var(--sklearn-color-background);\n",
              "  text-decoration: none;\n",
              "}\n",
              "\n",
              "#sk-container-id-1 a.estimator_doc_link.fitted:hover {\n",
              "  /* fitted */\n",
              "  background-color: var(--sklearn-color-fitted-level-3);\n",
              "}\n",
              "</style><div id=\"sk-container-id-1\" class=\"sk-top-container\"><div class=\"sk-text-repr-fallback\"><pre>LogisticRegression(class_weight=&#x27;balanced&#x27;, max_iter=1000, random_state=42)</pre><b>In a Jupyter environment, please rerun this cell to show the HTML representation or trust the notebook. <br />On GitHub, the HTML representation is unable to render, please try loading this page with nbviewer.org.</b></div><div class=\"sk-container\" hidden><div class=\"sk-item\"><div class=\"sk-estimator fitted sk-toggleable\"><input class=\"sk-toggleable__control sk-hidden--visually\" id=\"sk-estimator-id-1\" type=\"checkbox\" checked><label for=\"sk-estimator-id-1\" class=\"sk-toggleable__label fitted sk-toggleable__label-arrow\"><div><div>LogisticRegression</div></div><div><a class=\"sk-estimator-doc-link fitted\" rel=\"noreferrer\" target=\"_blank\" href=\"https://scikit-learn.org/1.6/modules/generated/sklearn.linear_model.LogisticRegression.html\">?<span>Documentation for LogisticRegression</span></a><span class=\"sk-estimator-doc-link fitted\">i<span>Fitted</span></span></div></label><div class=\"sk-toggleable__content fitted\"><pre>LogisticRegression(class_weight=&#x27;balanced&#x27;, max_iter=1000, random_state=42)</pre></div> </div></div></div></div>"
            ]
          },
          "metadata": {},
          "execution_count": 4
        }
      ]
    },
    {
      "cell_type": "code",
      "source": [
        "# Make predictions\n",
        "y_pred = logreg.predict(X_test)\n",
        "y_pred_proba = logreg.predict_proba(X_test)[:, 1]"
      ],
      "metadata": {
        "id": "yOGbfvvLsn57"
      },
      "execution_count": 5,
      "outputs": []
    },
    {
      "cell_type": "code",
      "source": [
        "cm = confusion_matrix(y_test, y_pred)\n",
        "print(f\"\\nConfusion Matrix:\")\n",
        "print(cm)\n",
        "\n",
        "# Plot confusion matrix\n",
        "plt.figure(figsize=(8, 6))\n",
        "sns.heatmap(cm, annot=True, fmt='d', cmap='Blues',\n",
        "            xticklabels=['No Churn', 'Churn'],\n",
        "            yticklabels=['No Churn', 'Churn'])\n",
        "plt.title('Confusion Matrix - Logistic Regression')\n",
        "plt.ylabel('Actual')\n",
        "plt.xlabel('Predicted')\n",
        "plt.show()"
      ],
      "metadata": {
        "colab": {
          "base_uri": "https://localhost:8080/",
          "height": 610
        },
        "id": "SpfxTyp6st-u",
        "outputId": "b13ce147-999d-4e08-811e-0f9cf8d3567f"
      },
      "execution_count": 7,
      "outputs": [
        {
          "output_type": "stream",
          "name": "stdout",
          "text": [
            "\n",
            "Confusion Matrix:\n",
            "[[747 288]\n",
            " [ 83 291]]\n"
          ]
        },
        {
          "output_type": "display_data",
          "data": {
            "text/plain": [
              "<Figure size 800x600 with 2 Axes>"
            ],
            "image/png": "[encoded data removed]"
          },
          "metadata": {}
        }
      ]
    },
    {
      "cell_type": "code",
      "source": [
        "# Cross-validation\n",
        "from sklearn.model_selection import cross_val_score\n",
        "\n",
        "cv_scores = cross_val_score(logreg, X, y, cv=5, scoring='accuracy')\n",
        "print(f\"\\nCross-Validation Results\")\n",
        "print(f\"Cross-validation scores: {cv_scores}\")\n",
        "print(f\"Mean CV accuracy: {cv_scores.mean():.4f} (+/- {cv_scores.std() * 2:.4f})\")\n",
        "\n"
      ],
      "metadata": {
        "colab": {
          "base_uri": "https://localhost:8080/"
        },
        "id": "aEO4b5XwtEzR",
        "outputId": "b108e1de-de9e-4d22-f813-a9b127049641"
      },
      "execution_count": 8,
      "outputs": [
        {
          "output_type": "stream",
          "name": "stdout",
          "text": [
            "\n",
            "Cross-Validation Results\n",
            "Cross-validation scores: [0.75159688 0.74875798 0.74024131 0.75710227 0.75284091]\n",
            "Mean CV accuracy: 0.7501 (+/- 0.0112)\n"
          ]
        }
      ]
    },
    {
      "cell_type": "code",
      "source": [
        "accuracy_basic = accuracy_score(y_test, y_pred)\n",
        "precision_basic = precision_score(y_test, y_pred)\n",
        "recall_basic = recall_score(y_test, y_pred)\n",
        "f1_basic = f1_score(y_test, y_pred)\n",
        "auc_basic = roc_auc_score(y_test, y_pred_proba)\n",
        "\n",
        "print(f\"\\nPerformance Metrics:\")\n",
        "print(f\"Accuracy: {accuracy_basic:.4f}\")\n",
        "print(f\"Precision: {precision_basic:.4f}\")\n",
        "print(f\"Recall: {recall_basic:.4f}\")\n",
        "print(f\"F1-Score: {f1_basic:.4f}\")\n",
        "print(f\"AUC-ROC: {auc_basic:.4f}\")"
      ],
      "metadata": {
        "colab": {
          "base_uri": "https://localhost:8080/"
        },
        "id": "RciFWeQwwj-B",
        "outputId": "0b582203-cfe0-445e-c9cf-38dba686cb02"
      },
      "execution_count": 10,
      "outputs": [
        {
          "output_type": "stream",
          "name": "stdout",
          "text": [
            "\n",
            "Performance Metrics:\n",
            "Accuracy: 0.7367\n",
            "Precision: 0.5026\n",
            "Recall: 0.7781\n",
            "F1-Score: 0.6107\n",
            "AUC-ROC: 0.8375\n"
          ]
        }
      ]
    },
    {
      "cell_type": "markdown",
      "source": [
        "Variety 2 - GridSearchCV"
      ],
      "metadata": {
        "id": "D--hITzM7wg9"
      }
    },
    {
      "cell_type": "code",
      "source": [
        "# Define parameter grid\n",
        "param_grid = {\n",
        "    'C': [0.001, 0.01, 0.1, 1, 10, 100],\n",
        "    'penalty': ['l1', 'l2'],\n",
        "    'solver': ['liblinear', 'saga'],\n",
        "    'class_weight': [None, 'balanced']\n",
        "}\n",
        "\n",
        "# GridSearchCV with 5-fold cross-validation\n",
        "lr_tuned = GridSearchCV(\n",
        "    LogisticRegression(random_state=42, max_iter=2000),\n",
        "    param_grid,\n",
        "    cv=5,\n",
        "    scoring='f1',\n",
        "    n_jobs=-1,\n",
        "    verbose=1\n",
        ")\n",
        "\n",
        "print(\"Performing hyperparameter tuning with GridSearchCV...\")\n",
        "lr_tuned.fit(X_train, y_train)\n",
        "\n",
        "print(f\"\\nBest Parameters: {lr_tuned.best_params_}\")\n",
        "print(f\"Best Cross-validation Score: {lr_tuned.best_score_:.4f}\")\n",
        "\n"
      ],
      "metadata": {
        "colab": {
          "base_uri": "https://localhost:8080/"
        },
        "id": "fau4ozuF8BP2",
        "outputId": "de4eb438-66cb-43df-8348-6d9921dc9998"
      },
      "execution_count": 11,
      "outputs": [
        {
          "output_type": "stream",
          "name": "stdout",
          "text": [
            "Performing hyperparameter tuning with GridSearchCV...\n",
            "Fitting 5 folds for each of 48 candidates, totalling 240 fits\n",
            "\n",
            "Best Parameters: {'C': 1, 'class_weight': 'balanced', 'penalty': 'l2', 'solver': 'liblinear'}\n",
            "Best Cross-validation Score: 0.6286\n"
          ]
        }
      ]
    },
    {
      "cell_type": "code",
      "source": [
        "# Get the best estimator\n",
        "best_lr = lr_tuned.best_estimator_\n",
        "\n",
        "# Make predictions with tuned model\n",
        "y_pred_tuned = best_lr.predict(X_test)\n",
        "y_pred_proba_tuned = best_lr.predict_proba(X_test)[:, 1]\n",
        "\n",
        "# Evaluate tuned model\n",
        "accuracy_tuned = accuracy_score(y_test, y_pred_tuned)\n",
        "precision_tuned = precision_score(y_test, y_pred_tuned)\n",
        "recall_tuned = recall_score(y_test, y_pred_tuned)\n",
        "f1_tuned = f1_score(y_test, y_pred_tuned)\n",
        "auc_tuned = roc_auc_score(y_test, y_pred_proba_tuned)\n",
        "\n",
        "print(f\"\\nPerformance Metrics (Tuned):\")\n",
        "print(f\"Accuracy: {accuracy_tuned:.4f}\")\n",
        "print(f\"Precision: {precision_tuned:.4f}\")\n",
        "print(f\"Recall: {recall_tuned:.4f}\")\n",
        "print(f\"F1-Score: {f1_tuned:.4f}\")\n",
        "print(f\"AUC-ROC: {auc_tuned:.4f}\")\n"
      ],
      "metadata": {
        "colab": {
          "base_uri": "https://localhost:8080/"
        },
        "id": "Ld7op-fWDq5a",
        "outputId": "a88f168c-f665-4e24-89d0-61f55d8bee46"
      },
      "execution_count": 12,
      "outputs": [
        {
          "output_type": "stream",
          "name": "stdout",
          "text": [
            "\n",
            "Performance Metrics (Tuned):\n",
            "Accuracy: 0.7367\n",
            "Precision: 0.5026\n",
            "Recall: 0.7781\n",
            "F1-Score: 0.6107\n",
            "AUC-ROC: 0.8375\n"
          ]
        }
      ]
    },
    {
      "cell_type": "code",
      "metadata": {
        "colab": {
          "base_uri": "https://localhost:8080/",
          "height": 610
        },
        "id": "a8f3915c",
        "outputId": "ddca4c7a-538b-4715-e350-cf798119a8aa"
      },
      "source": [
        "cm_tuned = confusion_matrix(y_test, y_pred_tuned)\n",
        "print(f\"\\nConfusion Matrix (Tuned Model):\")\n",
        "print(cm_tuned)\n",
        "\n",
        "# Plot confusion matrix for tuned model\n",
        "plt.figure(figsize=(8, 6))\n",
        "sns.heatmap(cm_tuned, annot=True, fmt='d', cmap='Blues',\n",
        "            xticklabels=['No Churn', 'Churn'],\n",
        "            yticklabels=['No Churn', 'Churn'])\n",
        "plt.title('Confusion Matrix - Hyperparameter-Tuned Logistic Regression')\n",
        "plt.ylabel('Actual')\n",
        "plt.xlabel('Predicted')\n",
        "plt.show()"
      ],
      "execution_count": 13,
      "outputs": [
        {
          "output_type": "stream",
          "name": "stdout",
          "text": [
            "\n",
            "Confusion Matrix (Tuned Model):\n",
            "[[747 288]\n",
            " [ 83 291]]\n"
          ]
        },
        {
          "output_type": "display_data",
          "data": {
            "text/plain": [
              "<Figure size 800x600 with 2 Axes>"
            ],
            "image/png": "[encoded data removed]"
          },
          "metadata": {}
        }
      ]
    },
    {
      "cell_type": "code",
      "source": [
        "# Cross-validation for tuned model\n",
        "cv_scores_tuned = cross_val_score(best_lr, X, y, cv=5, scoring='accuracy')\n",
        "print(f\"Cross-validation Accuracy: {cv_scores_tuned.mean():.4f} (+/- {cv_scores_tuned.std() * 2:.4f})\")\n",
        "\n",
        "# Coefficient analysis for tuned model\n",
        "if hasattr(best_lr, 'coef_'):\n",
        "    coef_tuned = pd.DataFrame({\n",
        "        'Feature': X.columns,\n",
        "        'Coefficient': best_lr.coef_[0],\n",
        "        'Abs_Coefficient': np.abs(best_lr.coef_[0])\n",
        "    }).sort_values('Abs_Coefficient', ascending=False)\n",
        "\n",
        "    print(f\"\\nTop 5 Features (Tuned Model):\")\n",
        "    print(coef_tuned.head(5))"
      ],
      "metadata": {
        "colab": {
          "base_uri": "https://localhost:8080/"
        },
        "id": "RpoBe8yBDtPm",
        "outputId": "c97f39b0-87b9-4315-8bba-3bc874b2c646"
      },
      "execution_count": 14,
      "outputs": [
        {
          "output_type": "stream",
          "name": "stdout",
          "text": [
            "Cross-validation Accuracy: 0.7504 (+/- 0.0115)\n",
            "\n",
            "Top 5 Features (Tuned Model):\n",
            "   Feature  Coefficient  Abs_Coefficient\n",
            "1      PC2    -1.321836         1.321836\n",
            "2      PC3     0.595432         0.595432\n",
            "4      PC5     0.428838         0.428838\n",
            "10    PC11    -0.413943         0.413943\n",
            "0      PC1     0.315598         0.315598\n"
          ]
        }
      ]
    },
    {
      "cell_type": "markdown",
      "source": [
        "Variety 3 - Scaled data with different solver"
      ],
      "metadata": {
        "id": "ltphQWOrEc2Y"
      }
    },
    {
      "cell_type": "code",
      "source": [
        "scaler = StandardScaler()\n",
        "X_train_scaled = scaler.fit_transform(X_train)\n",
        "X_test_scaled = scaler.transform(X_test)\n",
        "\n",
        "# Logistic Regression with different solver and scaled data\n",
        "lr_scaled = LogisticRegression(\n",
        "    random_state=42,\n",
        "    max_iter=1000,\n",
        "    C=1.0,  # Moderate regularization\n",
        "    penalty='l2',\n",
        "    solver='lbfgs',  # Different solver that works well with scaled data\n",
        "    class_weight='balanced'\n",
        ")\n",
        "\n",
        "# Train on scaled data\n",
        "lr_scaled.fit(X_train_scaled, y_train)\n",
        "\n",
        "# Make predictions\n",
        "y_pred_scaled = lr_scaled.predict(X_test_scaled)\n",
        "y_pred_proba_scaled = lr_scaled.predict_proba(X_test_scaled)[:, 1]\n"
      ],
      "metadata": {
        "id": "dHZ9NBPvEjAn"
      },
      "execution_count": 15,
      "outputs": []
    },
    {
      "cell_type": "code",
      "source": [
        "# Evaluate scaled model\n",
        "accuracy_scaled = accuracy_score(y_test, y_pred_scaled)\n",
        "precision_scaled = precision_score(y_test, y_pred_scaled)\n",
        "recall_scaled = recall_score(y_test, y_pred_scaled)\n",
        "f1_scaled = f1_score(y_test, y_pred_scaled)\n",
        "auc_scaled = roc_auc_score(y_test, y_pred_proba_scaled)\n",
        "\n",
        "print(f\"\\nPerformance Metrics (Scaled Data):\")\n",
        "print(f\"Accuracy: {accuracy_scaled:.4f}\")\n",
        "print(f\"Precision: {precision_scaled:.4f}\")\n",
        "print(f\"Recall: {recall_scaled:.4f}\")\n",
        "print(f\"F1-Score: {f1_scaled:.4f}\")\n",
        "print(f\"AUC-ROC: {auc_scaled:.4f}\")"
      ],
      "metadata": {
        "colab": {
          "base_uri": "https://localhost:8080/"
        },
        "id": "OlUy4msgEzKl",
        "outputId": "7609963c-3c5f-4b2a-cc89-233986914bcc"
      },
      "execution_count": 16,
      "outputs": [
        {
          "output_type": "stream",
          "name": "stdout",
          "text": [
            "\n",
            "Performance Metrics (Scaled Data):\n",
            "Accuracy: 0.7367\n",
            "Precision: 0.5026\n",
            "Recall: 0.7781\n",
            "F1-Score: 0.6107\n",
            "AUC-ROC: 0.8375\n"
          ]
        }
      ]
    },
    {
      "cell_type": "code",
      "metadata": {
        "colab": {
          "base_uri": "https://localhost:8080/",
          "height": 653
        },
        "id": "cf74b6d7",
        "outputId": "a0166a68-4186-4fd3-88e6-e2f01b157f05"
      },
      "source": [
        "cm_scaled = confusion_matrix(y_test, y_pred_scaled)\n",
        "print(f\"\\nConfusion Matrix (Scaled Data Model):\")\n",
        "print(cm_scaled)\n",
        "\n",
        "# Plot confusion matrix for scaled model\n",
        "plt.figure(figsize=(8, 6))\n",
        "sns.heatmap(cm_scaled, annot=True, fmt='d', cmap='Blues',\n",
        "            xticklabels=['No Churn', 'Churn'],\n",
        "            yticklabels=['No Churn', 'Churn'])\n",
        "plt.title('Confusion Matrix - Scaled Data Logistic Regression')\n",
        "plt.ylabel('Actual')\n",
        "plt.xlabel('Predicted')\n",
        "plt.show()"
      ],
      "execution_count": 17,
      "outputs": [
        {
          "output_type": "stream",
          "name": "stdout",
          "text": [
            "\n",
            "Confusion Matrix (Scaled Data Model):\n",
            "[[747 288]\n",
            " [ 83 291]]\n"
          ]
        },
        {
          "output_type": "display_data",
          "data": {
            "text/plain": [
              "<Figure size 800x600 with 2 Axes>"
            ],
            "image/png": "[encoded data removed]"
          },
          "metadata": {}
        }
      ]
    },
    {
      "cell_type": "code",
      "source": [
        "# Cross-validation\n",
        "X_scaled = scaler.fit_transform(X)\n",
        "cv_scores_scaled = cross_val_score(lr_scaled, X_scaled, y, cv=5, scoring='accuracy')\n",
        "print(f\"Cross-validation Accuracy: {cv_scores_scaled.mean():.4f} (+/- {cv_scores_scaled.std() * 2:.4f})\")\n",
        "\n",
        "# Coefficient analysis for scaled model\n",
        "if hasattr(lr_scaled, 'coef_'):\n",
        "    coef_scaled = pd.DataFrame({\n",
        "        'Feature': X.columns,\n",
        "        'Coefficient': lr_scaled.coef_[0],\n",
        "        'Abs_Coefficient': np.abs(lr_scaled.coef_[0])\n",
        "    }).sort_values('Abs_Coefficient', ascending=False)\n",
        "\n",
        "    print(f\"\\nTop 5 Features (Scaled Model):\")\n",
        "    print(coef_scaled.head(5))"
      ],
      "metadata": {
        "colab": {
          "base_uri": "https://localhost:8080/"
        },
        "id": "InAtKnbnE3dF",
        "outputId": "5b924641-94a1-4550-8823-0edb1364e0fb"
      },
      "execution_count": 18,
      "outputs": [
        {
          "output_type": "stream",
          "name": "stdout",
          "text": [
            "Cross-validation Accuracy: 0.7504 (+/- 0.0115)\n",
            "\n",
            "Top 5 Features (Scaled Model):\n",
            "   Feature  Coefficient  Abs_Coefficient\n",
            "1      PC2    -1.478174         1.478174\n",
            "0      PC1     0.505682         0.505682\n",
            "2      PC3     0.420899         0.420899\n",
            "4      PC5     0.224151         0.224151\n",
            "10    PC11    -0.162607         0.162607\n"
          ]
        }
      ]
    },
    {
      "cell_type": "code",
      "source": [
        "comparison_data = {\n",
        "    'Model': ['Basic Logistic Regression', 'Hyperparameter-Tuned', 'Scaled Data with Different Solver'],\n",
        "    'Accuracy': [accuracy_basic, accuracy_tuned, accuracy_scaled],\n",
        "    'Precision': [precision_basic, precision_tuned, precision_scaled],\n",
        "    'Recall': [recall_basic, recall_tuned, recall_scaled],\n",
        "    'F1-Score': [f1_basic, f1_tuned, f1_scaled],\n",
        "    'AUC-ROC': [auc_basic, auc_tuned, auc_scaled],\n",
        "    'CV_Accuracy': [cv_scores.mean(), cv_scores_tuned.mean(), cv_scores_scaled.mean()],\n",
        "    'CV_Std': [cv_scores.std(), cv_scores_tuned.std(), cv_scores_scaled.std()]\n",
        "}\n",
        "\n",
        "comparison_df = pd.DataFrame(comparison_data)\n",
        "print(\"\\nPerformance Comparison Across All Varieties:\")\n",
        "print(comparison_df.round(4))\n",
        "\n",
        "# Find best model based on F1-Score\n",
        "best_model_idx = comparison_df['F1-Score'].idxmax()\n",
        "best_model = comparison_df.loc[best_model_idx, 'Model']\n",
        "best_f1 = comparison_df.loc[best_model_idx, 'F1-Score']\n",
        "\n",
        "print(f\"\\nBest Model: {best_model} (F1-Score: {best_f1:.4f})\")"
      ],
      "metadata": {
        "colab": {
          "base_uri": "https://localhost:8080/"
        },
        "id": "HTXE5zTmFAXx",
        "outputId": "ece59c2a-d8fd-4558-ebdc-872a6742ef30"
      },
      "execution_count": 19,
      "outputs": [
        {
          "output_type": "stream",
          "name": "stdout",
          "text": [
            "\n",
            "Performance Comparison Across All Varieties:\n",
            "                               Model  Accuracy  Precision  Recall  F1-Score  \\\n",
            "0          Basic Logistic Regression    0.7367     0.5026  0.7781    0.6107   \n",
            "1               Hyperparameter-Tuned    0.7367     0.5026  0.7781    0.6107   \n",
            "2  Scaled Data with Different Solver    0.7367     0.5026  0.7781    0.6107   \n",
            "\n",
            "   AUC-ROC  CV_Accuracy  CV_Std  \n",
            "0   0.8375       0.7501  0.0056  \n",
            "1   0.8375       0.7504  0.0058  \n",
            "2   0.8375       0.7504  0.0058  \n",
            "\n",
            "Best Model: Basic Logistic Regression (F1-Score: 0.6107)\n"
          ]
        }
      ]
    },
    {
      "cell_type": "code",
      "metadata": {
        "colab": {
          "base_uri": "https://localhost:8080/",
          "height": 452
        },
        "id": "c638bdc8",
        "outputId": "d3912ebf-1b74-428a-dbbb-6cb0b532eded"
      },
      "source": [
        "comparison_melted = comparison_df.melt(\n",
        "    'Model',\n",
        "    var_name='Metric',\n",
        "    value_name='Score',\n",
        "    value_vars=['Accuracy', 'Precision', 'Recall', 'F1-Score', 'AUC-ROC', 'CV_Accuracy']\n",
        ")\n",
        "\n",
        "plt.figure(figsize=(12, 8))\n",
        "sns.barplot(x='Metric', y='Score', hue='Model', data=comparison_melted)\n",
        "plt.title('Performance Comparison of Logistic Regression Models')\n",
        "plt.ylabel('Score')\n",
        "plt.ylim(0, 1) # Metrics are typically between 0 and 1\n",
        "plt.grid(axis='y')\n",
        "plt.show()"
      ],
      "execution_count": 20,
      "outputs": [
        {
          "output_type": "display_data",
          "data": {
            "text/plain": [
              "<Figure size 1200x800 with 1 Axes>"
            ],
            "image/png": "[encoded data removed]"
          },
          "metadata": {}
        }
      ]
    }
  ]
}